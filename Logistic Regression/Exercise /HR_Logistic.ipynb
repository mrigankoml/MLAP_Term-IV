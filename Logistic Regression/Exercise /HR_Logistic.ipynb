{
  "nbformat": 4,
  "nbformat_minor": 0,
  "metadata": {
    "colab": {
      "name": "HR_Logistic.ipynb",
      "provenance": [],
      "collapsed_sections": [],
      "include_colab_link": true
    },
    "kernelspec": {
      "name": "python3",
      "display_name": "Python 3"
    },
    "language_info": {
      "name": "python"
    }
  },
  "cells": [
    {
      "cell_type": "markdown",
      "metadata": {
        "id": "view-in-github",
        "colab_type": "text"
      },
      "source": [
        "<a href=\"https://colab.research.google.com/github/mrigankoml/MLAP_Term-IV/blob/main/Logistic%20Regression/Exercise%20/HR_Logistic.ipynb\" target=\"_parent\"><img src=\"https://colab.research.google.com/assets/colab-badge.svg\" alt=\"Open In Colab\"/></a>"
      ]
    },
    {
      "cell_type": "markdown",
      "metadata": {
        "id": "k1OrsyikbQK_"
      },
      "source": [
        "# **Credit Classification**"
      ]
    },
    {
      "cell_type": "code",
      "metadata": {
        "id": "_4nXFDcjbJo2"
      },
      "source": [
        "import pandas as pd\n",
        "import numpy as np"
      ],
      "execution_count": null,
      "outputs": []
    },
    {
      "cell_type": "code",
      "metadata": {
        "colab": {
          "base_uri": "https://localhost:8080/"
        },
        "id": "Grcpk14VbZxz",
        "outputId": "bd6161c2-ee63-43f0-9abc-79233965b357"
      },
      "source": [
        "hr_df = pd.read_csv( \"https://raw.githubusercontent.com/kshtjrj83/MLAP_2021/main/Logistic%20Regression/Exercise/HR_comma_sep.csv\" )\n",
        "hr_df.info()"
      ],
      "execution_count": null,
      "outputs": [
        {
          "output_type": "stream",
          "name": "stdout",
          "text": [
            "<class 'pandas.core.frame.DataFrame'>\n",
            "RangeIndex: 14999 entries, 0 to 14998\n",
            "Data columns (total 10 columns):\n",
            " #   Column                 Non-Null Count  Dtype  \n",
            "---  ------                 --------------  -----  \n",
            " 0   satisfaction_level     14999 non-null  float64\n",
            " 1   last_evaluation        14999 non-null  float64\n",
            " 2   number_project         14999 non-null  int64  \n",
            " 3   average_montly_hours   14999 non-null  int64  \n",
            " 4   time_spend_company     14999 non-null  int64  \n",
            " 5   Work_accident          14999 non-null  int64  \n",
            " 6   left                   14999 non-null  int64  \n",
            " 7   promotion_last_5years  14999 non-null  int64  \n",
            " 8   Department             14999 non-null  object \n",
            " 9   salary                 14999 non-null  object \n",
            "dtypes: float64(2), int64(6), object(2)\n",
            "memory usage: 1.1+ MB\n"
          ]
        }
      ]
    },
    {
      "cell_type": "code",
      "metadata": {
        "id": "xQ2rGMippU4R",
        "colab": {
          "base_uri": "https://localhost:8080/"
        },
        "outputId": "c98932e2-96fa-42a7-c583-f86b370ef8e5"
      },
      "source": [
        "from google.colab import drive\n",
        "drive.mount('/content/drive')"
      ],
      "execution_count": null,
      "outputs": [
        {
          "output_type": "stream",
          "name": "stdout",
          "text": [
            "Mounted at /content/drive\n"
          ]
        }
      ]
    },
    {
      "cell_type": "code",
      "metadata": {
        "colab": {
          "base_uri": "https://localhost:8080/",
          "height": 206
        },
        "id": "SXpKfOc2dHWJ",
        "outputId": "0ddd389f-4b10-4f5e-f34a-a1881a2b97a9"
      },
      "source": [
        "hr_df.iloc[0:5,1:7]"
      ],
      "execution_count": null,
      "outputs": [
        {
          "output_type": "execute_result",
          "data": {
            "text/html": [
              "<div>\n",
              "<style scoped>\n",
              "    .dataframe tbody tr th:only-of-type {\n",
              "        vertical-align: middle;\n",
              "    }\n",
              "\n",
              "    .dataframe tbody tr th {\n",
              "        vertical-align: top;\n",
              "    }\n",
              "\n",
              "    .dataframe thead th {\n",
              "        text-align: right;\n",
              "    }\n",
              "</style>\n",
              "<table border=\"1\" class=\"dataframe\">\n",
              "  <thead>\n",
              "    <tr style=\"text-align: right;\">\n",
              "      <th></th>\n",
              "      <th>last_evaluation</th>\n",
              "      <th>number_project</th>\n",
              "      <th>average_montly_hours</th>\n",
              "      <th>time_spend_company</th>\n",
              "      <th>Work_accident</th>\n",
              "      <th>left</th>\n",
              "    </tr>\n",
              "  </thead>\n",
              "  <tbody>\n",
              "    <tr>\n",
              "      <th>0</th>\n",
              "      <td>0.53</td>\n",
              "      <td>2</td>\n",
              "      <td>157</td>\n",
              "      <td>3</td>\n",
              "      <td>0</td>\n",
              "      <td>1</td>\n",
              "    </tr>\n",
              "    <tr>\n",
              "      <th>1</th>\n",
              "      <td>0.86</td>\n",
              "      <td>5</td>\n",
              "      <td>262</td>\n",
              "      <td>6</td>\n",
              "      <td>0</td>\n",
              "      <td>1</td>\n",
              "    </tr>\n",
              "    <tr>\n",
              "      <th>2</th>\n",
              "      <td>0.88</td>\n",
              "      <td>7</td>\n",
              "      <td>272</td>\n",
              "      <td>4</td>\n",
              "      <td>0</td>\n",
              "      <td>1</td>\n",
              "    </tr>\n",
              "    <tr>\n",
              "      <th>3</th>\n",
              "      <td>0.87</td>\n",
              "      <td>5</td>\n",
              "      <td>223</td>\n",
              "      <td>5</td>\n",
              "      <td>0</td>\n",
              "      <td>1</td>\n",
              "    </tr>\n",
              "    <tr>\n",
              "      <th>4</th>\n",
              "      <td>0.52</td>\n",
              "      <td>2</td>\n",
              "      <td>159</td>\n",
              "      <td>3</td>\n",
              "      <td>0</td>\n",
              "      <td>1</td>\n",
              "    </tr>\n",
              "  </tbody>\n",
              "</table>\n",
              "</div>"
            ],
            "text/plain": [
              "   last_evaluation  number_project  ...  Work_accident  left\n",
              "0             0.53               2  ...              0     1\n",
              "1             0.86               5  ...              0     1\n",
              "2             0.88               7  ...              0     1\n",
              "3             0.87               5  ...              0     1\n",
              "4             0.52               2  ...              0     1\n",
              "\n",
              "[5 rows x 6 columns]"
            ]
          },
          "metadata": {},
          "execution_count": 5
        }
      ]
    },
    {
      "cell_type": "code",
      "metadata": {
        "colab": {
          "base_uri": "https://localhost:8080/",
          "height": 206
        },
        "id": "S5P_ncAKdNYR",
        "outputId": "04308103-c0fb-446f-cfc5-4b86b4f17b46"
      },
      "source": [
        "hr_df.iloc[0:5,7:]"
      ],
      "execution_count": null,
      "outputs": [
        {
          "output_type": "execute_result",
          "data": {
            "text/html": [
              "<div>\n",
              "<style scoped>\n",
              "    .dataframe tbody tr th:only-of-type {\n",
              "        vertical-align: middle;\n",
              "    }\n",
              "\n",
              "    .dataframe tbody tr th {\n",
              "        vertical-align: top;\n",
              "    }\n",
              "\n",
              "    .dataframe thead th {\n",
              "        text-align: right;\n",
              "    }\n",
              "</style>\n",
              "<table border=\"1\" class=\"dataframe\">\n",
              "  <thead>\n",
              "    <tr style=\"text-align: right;\">\n",
              "      <th></th>\n",
              "      <th>promotion_last_5years</th>\n",
              "      <th>Department</th>\n",
              "      <th>salary</th>\n",
              "    </tr>\n",
              "  </thead>\n",
              "  <tbody>\n",
              "    <tr>\n",
              "      <th>0</th>\n",
              "      <td>0</td>\n",
              "      <td>sales</td>\n",
              "      <td>low</td>\n",
              "    </tr>\n",
              "    <tr>\n",
              "      <th>1</th>\n",
              "      <td>0</td>\n",
              "      <td>sales</td>\n",
              "      <td>medium</td>\n",
              "    </tr>\n",
              "    <tr>\n",
              "      <th>2</th>\n",
              "      <td>0</td>\n",
              "      <td>sales</td>\n",
              "      <td>medium</td>\n",
              "    </tr>\n",
              "    <tr>\n",
              "      <th>3</th>\n",
              "      <td>0</td>\n",
              "      <td>sales</td>\n",
              "      <td>low</td>\n",
              "    </tr>\n",
              "    <tr>\n",
              "      <th>4</th>\n",
              "      <td>0</td>\n",
              "      <td>sales</td>\n",
              "      <td>low</td>\n",
              "    </tr>\n",
              "  </tbody>\n",
              "</table>\n",
              "</div>"
            ],
            "text/plain": [
              "   promotion_last_5years Department  salary\n",
              "0                      0      sales     low\n",
              "1                      0      sales  medium\n",
              "2                      0      sales  medium\n",
              "3                      0      sales     low\n",
              "4                      0      sales     low"
            ]
          },
          "metadata": {},
          "execution_count": 6
        }
      ]
    },
    {
      "cell_type": "code",
      "metadata": {
        "colab": {
          "base_uri": "https://localhost:8080/"
        },
        "id": "wvsbt7P3dQzR",
        "outputId": "0f25291e-f49c-460d-e212-959cbeafb066"
      },
      "source": [
        "hr_df.left.value_counts()"
      ],
      "execution_count": null,
      "outputs": [
        {
          "output_type": "execute_result",
          "data": {
            "text/plain": [
              "0    11428\n",
              "1     3571\n",
              "Name: left, dtype: int64"
            ]
          },
          "metadata": {},
          "execution_count": 8
        }
      ]
    },
    {
      "cell_type": "code",
      "metadata": {
        "colab": {
          "base_uri": "https://localhost:8080/"
        },
        "id": "_n1_pO5kdVo1",
        "outputId": "60fe088f-7292-47a0-f8cb-a65f60917667"
      },
      "source": [
        "X_features = list(hr_df.columns)\n",
        "X_features.remove('left')\n",
        "X_features"
      ],
      "execution_count": null,
      "outputs": [
        {
          "output_type": "execute_result",
          "data": {
            "text/plain": [
              "['satisfaction_level',\n",
              " 'last_evaluation',\n",
              " 'number_project',\n",
              " 'average_montly_hours',\n",
              " 'time_spend_company',\n",
              " 'Work_accident',\n",
              " 'promotion_last_5years',\n",
              " 'Department',\n",
              " 'salary']"
            ]
          },
          "metadata": {},
          "execution_count": 9
        }
      ]
    },
    {
      "cell_type": "markdown",
      "metadata": {
        "id": "emd7va0jddKC"
      },
      "source": [
        "**Encoding Categorical Features**"
      ]
    },
    {
      "cell_type": "code",
      "metadata": {
        "id": "4QostYnMdXlZ"
      },
      "source": [
        "encoded_hr_df = pd.get_dummies(hr_df[X_features],\n",
        "drop_first = True )"
      ],
      "execution_count": null,
      "outputs": []
    },
    {
      "cell_type": "code",
      "metadata": {
        "colab": {
          "base_uri": "https://localhost:8080/"
        },
        "id": "srz_0oQ0dkK5",
        "outputId": "e6e9c22f-cdef-4044-f1b8-2af8b754c20b"
      },
      "source": [
        "list(encoded_hr_df.columns)"
      ],
      "execution_count": null,
      "outputs": [
        {
          "output_type": "execute_result",
          "data": {
            "text/plain": [
              "['satisfaction_level',\n",
              " 'last_evaluation',\n",
              " 'number_project',\n",
              " 'average_montly_hours',\n",
              " 'time_spend_company',\n",
              " 'Work_accident',\n",
              " 'promotion_last_5years',\n",
              " 'Department_RandD',\n",
              " 'Department_accounting',\n",
              " 'Department_hr',\n",
              " 'Department_management',\n",
              " 'Department_marketing',\n",
              " 'Department_product_mng',\n",
              " 'Department_sales',\n",
              " 'Department_support',\n",
              " 'Department_technical',\n",
              " 'salary_low',\n",
              " 'salary_medium']"
            ]
          },
          "metadata": {},
          "execution_count": 11
        }
      ]
    },
    {
      "cell_type": "code",
      "metadata": {
        "colab": {
          "base_uri": "https://localhost:8080/",
          "height": 206
        },
        "id": "SRggSoOjdpiN",
        "outputId": "e38dfd6a-3e9d-4c06-9f08-761d465931ec"
      },
      "source": [
        "encoded_hr_df[['Department_RandD',\n",
        "'Department_accounting',\n",
        "'Department_hr','Department_management','Department_marketing','Department_product_mng','Department_sales','Department_support','Department_technical']].head(5)"
      ],
      "execution_count": null,
      "outputs": [
        {
          "output_type": "execute_result",
          "data": {
            "text/html": [
              "<div>\n",
              "<style scoped>\n",
              "    .dataframe tbody tr th:only-of-type {\n",
              "        vertical-align: middle;\n",
              "    }\n",
              "\n",
              "    .dataframe tbody tr th {\n",
              "        vertical-align: top;\n",
              "    }\n",
              "\n",
              "    .dataframe thead th {\n",
              "        text-align: right;\n",
              "    }\n",
              "</style>\n",
              "<table border=\"1\" class=\"dataframe\">\n",
              "  <thead>\n",
              "    <tr style=\"text-align: right;\">\n",
              "      <th></th>\n",
              "      <th>Department_RandD</th>\n",
              "      <th>Department_accounting</th>\n",
              "      <th>Department_hr</th>\n",
              "      <th>Department_management</th>\n",
              "      <th>Department_marketing</th>\n",
              "      <th>Department_product_mng</th>\n",
              "      <th>Department_sales</th>\n",
              "      <th>Department_support</th>\n",
              "      <th>Department_technical</th>\n",
              "    </tr>\n",
              "  </thead>\n",
              "  <tbody>\n",
              "    <tr>\n",
              "      <th>0</th>\n",
              "      <td>0</td>\n",
              "      <td>0</td>\n",
              "      <td>0</td>\n",
              "      <td>0</td>\n",
              "      <td>0</td>\n",
              "      <td>0</td>\n",
              "      <td>1</td>\n",
              "      <td>0</td>\n",
              "      <td>0</td>\n",
              "    </tr>\n",
              "    <tr>\n",
              "      <th>1</th>\n",
              "      <td>0</td>\n",
              "      <td>0</td>\n",
              "      <td>0</td>\n",
              "      <td>0</td>\n",
              "      <td>0</td>\n",
              "      <td>0</td>\n",
              "      <td>1</td>\n",
              "      <td>0</td>\n",
              "      <td>0</td>\n",
              "    </tr>\n",
              "    <tr>\n",
              "      <th>2</th>\n",
              "      <td>0</td>\n",
              "      <td>0</td>\n",
              "      <td>0</td>\n",
              "      <td>0</td>\n",
              "      <td>0</td>\n",
              "      <td>0</td>\n",
              "      <td>1</td>\n",
              "      <td>0</td>\n",
              "      <td>0</td>\n",
              "    </tr>\n",
              "    <tr>\n",
              "      <th>3</th>\n",
              "      <td>0</td>\n",
              "      <td>0</td>\n",
              "      <td>0</td>\n",
              "      <td>0</td>\n",
              "      <td>0</td>\n",
              "      <td>0</td>\n",
              "      <td>1</td>\n",
              "      <td>0</td>\n",
              "      <td>0</td>\n",
              "    </tr>\n",
              "    <tr>\n",
              "      <th>4</th>\n",
              "      <td>0</td>\n",
              "      <td>0</td>\n",
              "      <td>0</td>\n",
              "      <td>0</td>\n",
              "      <td>0</td>\n",
              "      <td>0</td>\n",
              "      <td>1</td>\n",
              "      <td>0</td>\n",
              "      <td>0</td>\n",
              "    </tr>\n",
              "  </tbody>\n",
              "</table>\n",
              "</div>"
            ],
            "text/plain": [
              "   Department_RandD  ...  Department_technical\n",
              "0                 0  ...                     0\n",
              "1                 0  ...                     0\n",
              "2                 0  ...                     0\n",
              "3                 0  ...                     0\n",
              "4                 0  ...                     0\n",
              "\n",
              "[5 rows x 9 columns]"
            ]
          },
          "metadata": {},
          "execution_count": 14
        }
      ]
    },
    {
      "cell_type": "code",
      "metadata": {
        "id": "2w0aJ4TvdxM-"
      },
      "source": [
        "import statsmodels.api as sm\n",
        "Y = hr_df.left\n",
        "X = sm.add_constant(encoded_hr_df)"
      ],
      "execution_count": null,
      "outputs": []
    },
    {
      "cell_type": "markdown",
      "metadata": {
        "id": "mRSgp33jd5nd"
      },
      "source": [
        "**Splitting into Train and Validation Sets**"
      ]
    },
    {
      "cell_type": "code",
      "metadata": {
        "id": "HkBb_lHKd8Gg"
      },
      "source": [
        "from sklearn.model_selection import train_test_split\n",
        "X_train, X_test, y_train, y_test = train_test_split(X,\n",
        "Y,\n",
        "test_size = 0.3,\n",
        "random_state = 100)"
      ],
      "execution_count": null,
      "outputs": []
    },
    {
      "cell_type": "markdown",
      "metadata": {
        "id": "ha43GKA8eDBI"
      },
      "source": [
        "**Building Logistic Regression Model**"
      ]
    },
    {
      "cell_type": "code",
      "metadata": {
        "colab": {
          "base_uri": "https://localhost:8080/"
        },
        "id": "76aRejV9eA9c",
        "outputId": "f7f9cb15-e799-46f4-ed12-884d5e3507c1"
      },
      "source": [
        "import statsmodels.api as sm\n",
        "logit = sm.Logit(y_train, X_train)\n",
        "logit_model = logit.fit()"
      ],
      "execution_count": null,
      "outputs": [
        {
          "output_type": "stream",
          "name": "stdout",
          "text": [
            "Optimization terminated successfully.\n",
            "         Current function value: 0.429431\n",
            "         Iterations 7\n"
          ]
        }
      ]
    },
    {
      "cell_type": "markdown",
      "metadata": {
        "id": "s6Co_PWZeMnx"
      },
      "source": [
        "**Printing Model Summary**"
      ]
    },
    {
      "cell_type": "code",
      "metadata": {
        "colab": {
          "base_uri": "https://localhost:8080/",
          "height": 619
        },
        "id": "qoCZp0TmeKgp",
        "outputId": "0cf9db0b-22be-49e5-cbcf-9f021fc639a8"
      },
      "source": [
        "logit_model.summary2()"
      ],
      "execution_count": null,
      "outputs": [
        {
          "output_type": "execute_result",
          "data": {
            "text/html": [
              "<table class=\"simpletable\">\n",
              "<tr>\n",
              "        <td>Model:</td>              <td>Logit</td>      <td>Pseudo R-squared:</td>   <td>0.213</td>  \n",
              "</tr>\n",
              "<tr>\n",
              "  <td>Dependent Variable:</td>       <td>left</td>             <td>AIC:</td>        <td>9055.1947</td>\n",
              "</tr>\n",
              "<tr>\n",
              "         <td>Date:</td>        <td>2021-09-01 05:13</td>       <td>BIC:</td>        <td>9193.1163</td>\n",
              "</tr>\n",
              "<tr>\n",
              "   <td>No. Observations:</td>        <td>10499</td>       <td>Log-Likelihood:</td>   <td>-4508.6</td> \n",
              "</tr>\n",
              "<tr>\n",
              "       <td>Df Model:</td>             <td>18</td>            <td>LL-Null:</td>       <td>-5730.1</td> \n",
              "</tr>\n",
              "<tr>\n",
              "     <td>Df Residuals:</td>          <td>10480</td>        <td>LLR p-value:</td>     <td>0.0000</td>  \n",
              "</tr>\n",
              "<tr>\n",
              "      <td>Converged:</td>           <td>1.0000</td>           <td>Scale:</td>        <td>1.0000</td>  \n",
              "</tr>\n",
              "<tr>\n",
              "    <td>No. Iterations:</td>        <td>7.0000</td>              <td></td>              <td></td>     \n",
              "</tr>\n",
              "</table>\n",
              "<table class=\"simpletable\">\n",
              "<tr>\n",
              "             <td></td>             <th>Coef.</th>  <th>Std.Err.</th>     <th>z</th>     <th>P>|z|</th> <th>[0.025</th>  <th>0.975]</th> \n",
              "</tr>\n",
              "<tr>\n",
              "  <th>const</th>                  <td>-1.7921</td>  <td>0.2267</td>   <td>-7.9040</td> <td>0.0000</td> <td>-2.2365</td> <td>-1.3477</td>\n",
              "</tr>\n",
              "<tr>\n",
              "  <th>satisfaction_level</th>     <td>-4.0199</td>  <td>0.1168</td>  <td>-34.4031</td> <td>0.0000</td> <td>-4.2490</td> <td>-3.7909</td>\n",
              "</tr>\n",
              "<tr>\n",
              "  <th>last_evaluation</th>        <td>0.8254</td>   <td>0.1775</td>   <td>4.6493</td>  <td>0.0000</td> <td>0.4774</td>  <td>1.1734</td> \n",
              "</tr>\n",
              "<tr>\n",
              "  <th>number_project</th>         <td>-0.3160</td>  <td>0.0255</td>  <td>-12.3773</td> <td>0.0000</td> <td>-0.3661</td> <td>-0.2660</td>\n",
              "</tr>\n",
              "<tr>\n",
              "  <th>average_montly_hours</th>   <td>0.0045</td>   <td>0.0006</td>   <td>7.4702</td>  <td>0.0000</td> <td>0.0034</td>  <td>0.0057</td> \n",
              "</tr>\n",
              "<tr>\n",
              "  <th>time_spend_company</th>     <td>0.2727</td>   <td>0.0187</td>   <td>14.6126</td> <td>0.0000</td> <td>0.2361</td>  <td>0.3093</td> \n",
              "</tr>\n",
              "<tr>\n",
              "  <th>Work_accident</th>          <td>-1.5349</td>  <td>0.1074</td>  <td>-14.2971</td> <td>0.0000</td> <td>-1.7453</td> <td>-1.3245</td>\n",
              "</tr>\n",
              "<tr>\n",
              "  <th>promotion_last_5years</th>  <td>-1.5238</td>  <td>0.3091</td>   <td>-4.9304</td> <td>0.0000</td> <td>-2.1296</td> <td>-0.9181</td>\n",
              "</tr>\n",
              "<tr>\n",
              "  <th>Department_RandD</th>       <td>-0.5101</td>  <td>0.1634</td>   <td>-3.1215</td> <td>0.0018</td> <td>-0.8304</td> <td>-0.1898</td>\n",
              "</tr>\n",
              "<tr>\n",
              "  <th>Department_accounting</th>  <td>0.2067</td>   <td>0.1452</td>   <td>1.4233</td>  <td>0.1546</td> <td>-0.0779</td> <td>0.4914</td> \n",
              "</tr>\n",
              "<tr>\n",
              "  <th>Department_hr</th>          <td>0.4078</td>   <td>0.1433</td>   <td>2.8469</td>  <td>0.0044</td> <td>0.1271</td>  <td>0.6886</td> \n",
              "</tr>\n",
              "<tr>\n",
              "  <th>Department_management</th>  <td>-0.3013</td>  <td>0.1806</td>   <td>-1.6683</td> <td>0.0953</td> <td>-0.6552</td> <td>0.0527</td> \n",
              "</tr>\n",
              "<tr>\n",
              "  <th>Department_marketing</th>   <td>0.0820</td>   <td>0.1440</td>   <td>0.5697</td>  <td>0.5689</td> <td>-0.2002</td> <td>0.3643</td> \n",
              "</tr>\n",
              "<tr>\n",
              "  <th>Department_product_mng</th> <td>0.0493</td>   <td>0.1431</td>   <td>0.3443</td>  <td>0.7306</td> <td>-0.2311</td> <td>0.3296</td> \n",
              "</tr>\n",
              "<tr>\n",
              "  <th>Department_sales</th>       <td>0.1260</td>   <td>0.1055</td>   <td>1.1946</td>  <td>0.2322</td> <td>-0.0807</td> <td>0.3328</td> \n",
              "</tr>\n",
              "<tr>\n",
              "  <th>Department_support</th>     <td>0.1561</td>   <td>0.1151</td>   <td>1.3560</td>  <td>0.1751</td> <td>-0.0695</td> <td>0.3816</td> \n",
              "</tr>\n",
              "<tr>\n",
              "  <th>Department_technical</th>   <td>0.2196</td>   <td>0.1110</td>   <td>1.9787</td>  <td>0.0478</td> <td>0.0021</td>  <td>0.4371</td> \n",
              "</tr>\n",
              "<tr>\n",
              "  <th>salary_low</th>             <td>1.9416</td>   <td>0.1543</td>   <td>12.5836</td> <td>0.0000</td> <td>1.6392</td>  <td>2.2440</td> \n",
              "</tr>\n",
              "<tr>\n",
              "  <th>salary_medium</th>          <td>1.4106</td>   <td>0.1552</td>   <td>9.0885</td>  <td>0.0000</td> <td>1.1064</td>  <td>1.7148</td> \n",
              "</tr>\n",
              "</table>"
            ],
            "text/plain": [
              "<class 'statsmodels.iolib.summary2.Summary'>\n",
              "\"\"\"\n",
              "                            Results: Logit\n",
              "=======================================================================\n",
              "Model:                 Logit              Pseudo R-squared:   0.213    \n",
              "Dependent Variable:    left               AIC:                9055.1947\n",
              "Date:                  2021-09-01 05:13   BIC:                9193.1163\n",
              "No. Observations:      10499              Log-Likelihood:     -4508.6  \n",
              "Df Model:              18                 LL-Null:            -5730.1  \n",
              "Df Residuals:          10480              LLR p-value:        0.0000   \n",
              "Converged:             1.0000             Scale:              1.0000   \n",
              "No. Iterations:        7.0000                                          \n",
              "-----------------------------------------------------------------------\n",
              "                        Coef.  Std.Err.    z     P>|z|   [0.025  0.975]\n",
              "-----------------------------------------------------------------------\n",
              "const                  -1.7921   0.2267  -7.9040 0.0000 -2.2365 -1.3477\n",
              "satisfaction_level     -4.0199   0.1168 -34.4031 0.0000 -4.2490 -3.7909\n",
              "last_evaluation         0.8254   0.1775   4.6493 0.0000  0.4774  1.1734\n",
              "number_project         -0.3160   0.0255 -12.3773 0.0000 -0.3661 -0.2660\n",
              "average_montly_hours    0.0045   0.0006   7.4702 0.0000  0.0034  0.0057\n",
              "time_spend_company      0.2727   0.0187  14.6126 0.0000  0.2361  0.3093\n",
              "Work_accident          -1.5349   0.1074 -14.2971 0.0000 -1.7453 -1.3245\n",
              "promotion_last_5years  -1.5238   0.3091  -4.9304 0.0000 -2.1296 -0.9181\n",
              "Department_RandD       -0.5101   0.1634  -3.1215 0.0018 -0.8304 -0.1898\n",
              "Department_accounting   0.2067   0.1452   1.4233 0.1546 -0.0779  0.4914\n",
              "Department_hr           0.4078   0.1433   2.8469 0.0044  0.1271  0.6886\n",
              "Department_management  -0.3013   0.1806  -1.6683 0.0953 -0.6552  0.0527\n",
              "Department_marketing    0.0820   0.1440   0.5697 0.5689 -0.2002  0.3643\n",
              "Department_product_mng  0.0493   0.1431   0.3443 0.7306 -0.2311  0.3296\n",
              "Department_sales        0.1260   0.1055   1.1946 0.2322 -0.0807  0.3328\n",
              "Department_support      0.1561   0.1151   1.3560 0.1751 -0.0695  0.3816\n",
              "Department_technical    0.2196   0.1110   1.9787 0.0478  0.0021  0.4371\n",
              "salary_low              1.9416   0.1543  12.5836 0.0000  1.6392  2.2440\n",
              "salary_medium           1.4106   0.1552   9.0885 0.0000  1.1064  1.7148\n",
              "=======================================================================\n",
              "\n",
              "\"\"\""
            ]
          },
          "metadata": {},
          "execution_count": 19
        }
      ]
    },
    {
      "cell_type": "markdown",
      "metadata": {
        "id": "IPVRMxY2eU8_"
      },
      "source": [
        "**Model Dignostics**"
      ]
    },
    {
      "cell_type": "code",
      "metadata": {
        "id": "js6Sct2leIfm"
      },
      "source": [
        "def get_significant_vars( lm ):\n",
        "    var_p_vals_df = pd.DataFrame( lm.pvalues )\n",
        "    var_p_vals_df['vars'] = var_p_vals_df.index\n",
        "    var_p_vals_df.columns = ['pvals', 'vars']\n",
        "    return list( var_p_vals_df[var_p_vals_df.pvals <= 0.05]['vars'] )"
      ],
      "execution_count": null,
      "outputs": []
    },
    {
      "cell_type": "code",
      "metadata": {
        "colab": {
          "base_uri": "https://localhost:8080/"
        },
        "id": "qOeBFGRrehSw",
        "outputId": "e9977d98-e891-448e-f86f-cd705d755962"
      },
      "source": [
        "significant_vars = get_significant_vars( logit_model )\n",
        "significant_vars"
      ],
      "execution_count": null,
      "outputs": [
        {
          "output_type": "execute_result",
          "data": {
            "text/plain": [
              "['const',\n",
              " 'satisfaction_level',\n",
              " 'last_evaluation',\n",
              " 'number_project',\n",
              " 'average_montly_hours',\n",
              " 'time_spend_company',\n",
              " 'Work_accident',\n",
              " 'promotion_last_5years',\n",
              " 'Department_RandD',\n",
              " 'Department_hr',\n",
              " 'Department_technical',\n",
              " 'salary_low',\n",
              " 'salary_medium']"
            ]
          },
          "metadata": {},
          "execution_count": 21
        }
      ]
    },
    {
      "cell_type": "code",
      "metadata": {
        "colab": {
          "base_uri": "https://localhost:8080/"
        },
        "id": "Qy9325vKekSI",
        "outputId": "92ee8cf5-24a1-465a-d6e5-980f7c11c17c"
      },
      "source": [
        "final_logit = sm.Logit( y_train,\n",
        "sm.add_constant( X_train[significant_vars] ) ).fit()"
      ],
      "execution_count": null,
      "outputs": [
        {
          "output_type": "stream",
          "name": "stdout",
          "text": [
            "Optimization terminated successfully.\n",
            "         Current function value: 0.429927\n",
            "         Iterations 7\n"
          ]
        }
      ]
    },
    {
      "cell_type": "code",
      "metadata": {
        "colab": {
          "base_uri": "https://localhost:8080/",
          "height": 491
        },
        "id": "wiFNgxJResm0",
        "outputId": "9996c76f-d4f4-4f67-ed49-ea976545acea"
      },
      "source": [
        "final_logit.summary2()"
      ],
      "execution_count": null,
      "outputs": [
        {
          "output_type": "execute_result",
          "data": {
            "text/html": [
              "<table class=\"simpletable\">\n",
              "<tr>\n",
              "        <td>Model:</td>              <td>Logit</td>      <td>Pseudo R-squared:</td>   <td>0.212</td>  \n",
              "</tr>\n",
              "<tr>\n",
              "  <td>Dependent Variable:</td>       <td>left</td>             <td>AIC:</td>        <td>9053.6070</td>\n",
              "</tr>\n",
              "<tr>\n",
              "         <td>Date:</td>        <td>2021-09-01 05:14</td>       <td>BIC:</td>        <td>9147.9744</td>\n",
              "</tr>\n",
              "<tr>\n",
              "   <td>No. Observations:</td>        <td>10499</td>       <td>Log-Likelihood:</td>   <td>-4513.8</td> \n",
              "</tr>\n",
              "<tr>\n",
              "       <td>Df Model:</td>             <td>12</td>            <td>LL-Null:</td>       <td>-5730.1</td> \n",
              "</tr>\n",
              "<tr>\n",
              "     <td>Df Residuals:</td>          <td>10486</td>        <td>LLR p-value:</td>     <td>0.0000</td>  \n",
              "</tr>\n",
              "<tr>\n",
              "      <td>Converged:</td>           <td>1.0000</td>           <td>Scale:</td>        <td>1.0000</td>  \n",
              "</tr>\n",
              "<tr>\n",
              "    <td>No. Iterations:</td>        <td>7.0000</td>              <td></td>              <td></td>     \n",
              "</tr>\n",
              "</table>\n",
              "<table class=\"simpletable\">\n",
              "<tr>\n",
              "            <td></td>             <th>Coef.</th>  <th>Std.Err.</th>     <th>z</th>     <th>P>|z|</th> <th>[0.025</th>  <th>0.975]</th> \n",
              "</tr>\n",
              "<tr>\n",
              "  <th>const</th>                 <td>-1.7301</td>  <td>0.2076</td>   <td>-8.3334</td> <td>0.0000</td> <td>-2.1370</td> <td>-1.3232</td>\n",
              "</tr>\n",
              "<tr>\n",
              "  <th>satisfaction_level</th>    <td>-4.0228</td>  <td>0.1168</td>  <td>-34.4542</td> <td>0.0000</td> <td>-4.2516</td> <td>-3.7940</td>\n",
              "</tr>\n",
              "<tr>\n",
              "  <th>last_evaluation</th>       <td>0.8214</td>   <td>0.1774</td>   <td>4.6311</td>  <td>0.0000</td> <td>0.4737</td>  <td>1.1690</td> \n",
              "</tr>\n",
              "<tr>\n",
              "  <th>number_project</th>        <td>-0.3159</td>  <td>0.0255</td>  <td>-12.3894</td> <td>0.0000</td> <td>-0.3659</td> <td>-0.2659</td>\n",
              "</tr>\n",
              "<tr>\n",
              "  <th>average_montly_hours</th>  <td>0.0046</td>   <td>0.0006</td>   <td>7.4994</td>  <td>0.0000</td> <td>0.0034</td>  <td>0.0058</td> \n",
              "</tr>\n",
              "<tr>\n",
              "  <th>time_spend_company</th>    <td>0.2681</td>   <td>0.0185</td>   <td>14.5091</td> <td>0.0000</td> <td>0.2319</td>  <td>0.3044</td> \n",
              "</tr>\n",
              "<tr>\n",
              "  <th>Work_accident</th>         <td>-1.5334</td>  <td>0.1073</td>  <td>-14.2936</td> <td>0.0000</td> <td>-1.7437</td> <td>-1.3232</td>\n",
              "</tr>\n",
              "<tr>\n",
              "  <th>promotion_last_5years</th> <td>-1.5617</td>  <td>0.3080</td>   <td>-5.0702</td> <td>0.0000</td> <td>-2.1655</td> <td>-0.9580</td>\n",
              "</tr>\n",
              "<tr>\n",
              "  <th>Department_RandD</th>      <td>-0.6055</td>  <td>0.1378</td>   <td>-4.3939</td> <td>0.0000</td> <td>-0.8756</td> <td>-0.3354</td>\n",
              "</tr>\n",
              "<tr>\n",
              "  <th>Department_hr</th>         <td>0.3119</td>   <td>0.1132</td>   <td>2.7545</td>  <td>0.0059</td> <td>0.0900</td>  <td>0.5339</td> \n",
              "</tr>\n",
              "<tr>\n",
              "  <th>Department_technical</th>  <td>0.1234</td>   <td>0.0679</td>   <td>1.8181</td>  <td>0.0690</td> <td>-0.0096</td> <td>0.2565</td> \n",
              "</tr>\n",
              "<tr>\n",
              "  <th>salary_low</th>            <td>1.9963</td>   <td>0.1533</td>   <td>13.0254</td> <td>0.0000</td> <td>1.6959</td>  <td>2.2966</td> \n",
              "</tr>\n",
              "<tr>\n",
              "  <th>salary_medium</th>         <td>1.4609</td>   <td>0.1543</td>   <td>9.4674</td>  <td>0.0000</td> <td>1.1585</td>  <td>1.7634</td> \n",
              "</tr>\n",
              "</table>"
            ],
            "text/plain": [
              "<class 'statsmodels.iolib.summary2.Summary'>\n",
              "\"\"\"\n",
              "                            Results: Logit\n",
              "======================================================================\n",
              "Model:                Logit              Pseudo R-squared:   0.212    \n",
              "Dependent Variable:   left               AIC:                9053.6070\n",
              "Date:                 2021-09-01 05:14   BIC:                9147.9744\n",
              "No. Observations:     10499              Log-Likelihood:     -4513.8  \n",
              "Df Model:             12                 LL-Null:            -5730.1  \n",
              "Df Residuals:         10486              LLR p-value:        0.0000   \n",
              "Converged:            1.0000             Scale:              1.0000   \n",
              "No. Iterations:       7.0000                                          \n",
              "----------------------------------------------------------------------\n",
              "                       Coef.  Std.Err.    z     P>|z|   [0.025  0.975]\n",
              "----------------------------------------------------------------------\n",
              "const                 -1.7301   0.2076  -8.3334 0.0000 -2.1370 -1.3232\n",
              "satisfaction_level    -4.0228   0.1168 -34.4542 0.0000 -4.2516 -3.7940\n",
              "last_evaluation        0.8214   0.1774   4.6311 0.0000  0.4737  1.1690\n",
              "number_project        -0.3159   0.0255 -12.3894 0.0000 -0.3659 -0.2659\n",
              "average_montly_hours   0.0046   0.0006   7.4994 0.0000  0.0034  0.0058\n",
              "time_spend_company     0.2681   0.0185  14.5091 0.0000  0.2319  0.3044\n",
              "Work_accident         -1.5334   0.1073 -14.2936 0.0000 -1.7437 -1.3232\n",
              "promotion_last_5years -1.5617   0.3080  -5.0702 0.0000 -2.1655 -0.9580\n",
              "Department_RandD      -0.6055   0.1378  -4.3939 0.0000 -0.8756 -0.3354\n",
              "Department_hr          0.3119   0.1132   2.7545 0.0059  0.0900  0.5339\n",
              "Department_technical   0.1234   0.0679   1.8181 0.0690 -0.0096  0.2565\n",
              "salary_low             1.9963   0.1533  13.0254 0.0000  1.6959  2.2966\n",
              "salary_medium          1.4609   0.1543   9.4674 0.0000  1.1585  1.7634\n",
              "======================================================================\n",
              "\n",
              "\"\"\""
            ]
          },
          "metadata": {},
          "execution_count": 23
        }
      ]
    },
    {
      "cell_type": "markdown",
      "metadata": {
        "id": "c1Qf51qoewt2"
      },
      "source": [
        "**Predicting on Test Data**"
      ]
    },
    {
      "cell_type": "code",
      "metadata": {
        "id": "z45W99KAeydP"
      },
      "source": [
        "y_pred_df = pd.DataFrame( { \"actual\": y_test,\n",
        "\"predicted_prob\": final_logit.predict(\n",
        "sm.add_constant( X_test[significant_vars] ) ) } )"
      ],
      "execution_count": null,
      "outputs": []
    },
    {
      "cell_type": "code",
      "metadata": {
        "colab": {
          "base_uri": "https://localhost:8080/",
          "height": 363
        },
        "id": "EvBvrGo6e4lT",
        "outputId": "9dba4be5-ec83-452c-ab31-c9671c92b5d3"
      },
      "source": [
        "y_pred_df.sample(10, random_state = 100)"
      ],
      "execution_count": null,
      "outputs": [
        {
          "output_type": "execute_result",
          "data": {
            "text/html": [
              "<div>\n",
              "<style scoped>\n",
              "    .dataframe tbody tr th:only-of-type {\n",
              "        vertical-align: middle;\n",
              "    }\n",
              "\n",
              "    .dataframe tbody tr th {\n",
              "        vertical-align: top;\n",
              "    }\n",
              "\n",
              "    .dataframe thead th {\n",
              "        text-align: right;\n",
              "    }\n",
              "</style>\n",
              "<table border=\"1\" class=\"dataframe\">\n",
              "  <thead>\n",
              "    <tr style=\"text-align: right;\">\n",
              "      <th></th>\n",
              "      <th>actual</th>\n",
              "      <th>predicted_prob</th>\n",
              "    </tr>\n",
              "  </thead>\n",
              "  <tbody>\n",
              "    <tr>\n",
              "      <th>7166</th>\n",
              "      <td>0</td>\n",
              "      <td>0.215294</td>\n",
              "    </tr>\n",
              "    <tr>\n",
              "      <th>7033</th>\n",
              "      <td>0</td>\n",
              "      <td>0.145796</td>\n",
              "    </tr>\n",
              "    <tr>\n",
              "      <th>8307</th>\n",
              "      <td>0</td>\n",
              "      <td>0.015819</td>\n",
              "    </tr>\n",
              "    <tr>\n",
              "      <th>9772</th>\n",
              "      <td>0</td>\n",
              "      <td>0.097537</td>\n",
              "    </tr>\n",
              "    <tr>\n",
              "      <th>4856</th>\n",
              "      <td>0</td>\n",
              "      <td>0.085064</td>\n",
              "    </tr>\n",
              "    <tr>\n",
              "      <th>9774</th>\n",
              "      <td>0</td>\n",
              "      <td>0.123402</td>\n",
              "    </tr>\n",
              "    <tr>\n",
              "      <th>6073</th>\n",
              "      <td>0</td>\n",
              "      <td>0.086603</td>\n",
              "    </tr>\n",
              "    <tr>\n",
              "      <th>2554</th>\n",
              "      <td>0</td>\n",
              "      <td>0.344500</td>\n",
              "    </tr>\n",
              "    <tr>\n",
              "      <th>11082</th>\n",
              "      <td>0</td>\n",
              "      <td>0.323456</td>\n",
              "    </tr>\n",
              "    <tr>\n",
              "      <th>6874</th>\n",
              "      <td>0</td>\n",
              "      <td>0.262043</td>\n",
              "    </tr>\n",
              "  </tbody>\n",
              "</table>\n",
              "</div>"
            ],
            "text/plain": [
              "       actual  predicted_prob\n",
              "7166        0        0.215294\n",
              "7033        0        0.145796\n",
              "8307        0        0.015819\n",
              "9772        0        0.097537\n",
              "4856        0        0.085064\n",
              "9774        0        0.123402\n",
              "6073        0        0.086603\n",
              "2554        0        0.344500\n",
              "11082       0        0.323456\n",
              "6874        0        0.262043"
            ]
          },
          "metadata": {},
          "execution_count": 25
        }
      ]
    },
    {
      "cell_type": "code",
      "metadata": {
        "colab": {
          "base_uri": "https://localhost:8080/",
          "height": 363
        },
        "id": "TTLGzAGQfF_3",
        "outputId": "460c9816-5b84-410d-fbf1-d6111f29efff"
      },
      "source": [
        "y_pred_df['predicted'] = y_pred_df.predicted_prob.map(\n",
        "lambda x: 1 if x > 0.5 else 0)\n",
        "\n",
        "y_pred_df.sample(10, random_state = 100)"
      ],
      "execution_count": null,
      "outputs": [
        {
          "output_type": "execute_result",
          "data": {
            "text/html": [
              "<div>\n",
              "<style scoped>\n",
              "    .dataframe tbody tr th:only-of-type {\n",
              "        vertical-align: middle;\n",
              "    }\n",
              "\n",
              "    .dataframe tbody tr th {\n",
              "        vertical-align: top;\n",
              "    }\n",
              "\n",
              "    .dataframe thead th {\n",
              "        text-align: right;\n",
              "    }\n",
              "</style>\n",
              "<table border=\"1\" class=\"dataframe\">\n",
              "  <thead>\n",
              "    <tr style=\"text-align: right;\">\n",
              "      <th></th>\n",
              "      <th>actual</th>\n",
              "      <th>predicted_prob</th>\n",
              "      <th>predicted</th>\n",
              "    </tr>\n",
              "  </thead>\n",
              "  <tbody>\n",
              "    <tr>\n",
              "      <th>7166</th>\n",
              "      <td>0</td>\n",
              "      <td>0.215294</td>\n",
              "      <td>0</td>\n",
              "    </tr>\n",
              "    <tr>\n",
              "      <th>7033</th>\n",
              "      <td>0</td>\n",
              "      <td>0.145796</td>\n",
              "      <td>0</td>\n",
              "    </tr>\n",
              "    <tr>\n",
              "      <th>8307</th>\n",
              "      <td>0</td>\n",
              "      <td>0.015819</td>\n",
              "      <td>0</td>\n",
              "    </tr>\n",
              "    <tr>\n",
              "      <th>9772</th>\n",
              "      <td>0</td>\n",
              "      <td>0.097537</td>\n",
              "      <td>0</td>\n",
              "    </tr>\n",
              "    <tr>\n",
              "      <th>4856</th>\n",
              "      <td>0</td>\n",
              "      <td>0.085064</td>\n",
              "      <td>0</td>\n",
              "    </tr>\n",
              "    <tr>\n",
              "      <th>9774</th>\n",
              "      <td>0</td>\n",
              "      <td>0.123402</td>\n",
              "      <td>0</td>\n",
              "    </tr>\n",
              "    <tr>\n",
              "      <th>6073</th>\n",
              "      <td>0</td>\n",
              "      <td>0.086603</td>\n",
              "      <td>0</td>\n",
              "    </tr>\n",
              "    <tr>\n",
              "      <th>2554</th>\n",
              "      <td>0</td>\n",
              "      <td>0.344500</td>\n",
              "      <td>0</td>\n",
              "    </tr>\n",
              "    <tr>\n",
              "      <th>11082</th>\n",
              "      <td>0</td>\n",
              "      <td>0.323456</td>\n",
              "      <td>0</td>\n",
              "    </tr>\n",
              "    <tr>\n",
              "      <th>6874</th>\n",
              "      <td>0</td>\n",
              "      <td>0.262043</td>\n",
              "      <td>0</td>\n",
              "    </tr>\n",
              "  </tbody>\n",
              "</table>\n",
              "</div>"
            ],
            "text/plain": [
              "       actual  predicted_prob  predicted\n",
              "7166        0        0.215294          0\n",
              "7033        0        0.145796          0\n",
              "8307        0        0.015819          0\n",
              "9772        0        0.097537          0\n",
              "4856        0        0.085064          0\n",
              "9774        0        0.123402          0\n",
              "6073        0        0.086603          0\n",
              "2554        0        0.344500          0\n",
              "11082       0        0.323456          0\n",
              "6874        0        0.262043          0"
            ]
          },
          "metadata": {},
          "execution_count": 26
        }
      ]
    },
    {
      "cell_type": "markdown",
      "metadata": {
        "id": "Jxiso9jkfQZZ"
      },
      "source": [
        "**Creating a Confusion Matrix**"
      ]
    },
    {
      "cell_type": "code",
      "metadata": {
        "id": "zd5rQLwefSPo"
      },
      "source": [
        "import matplotlib.pyplot as plt\n",
        "import seaborn as sn\n",
        "%matplotlib inline\n",
        "from sklearn import metrics"
      ],
      "execution_count": null,
      "outputs": []
    },
    {
      "cell_type": "code",
      "metadata": {
        "id": "j_WDULODfWZP"
      },
      "source": [
        "def draw_cm( actual, predicted ):\n",
        "## Cret\n",
        "    cm = metrics.confusion_matrix( actual, predicted, [1,0] )\n",
        "    sn.heatmap(cm, annot=True, fmt='.2f',\n",
        "                xticklabels = [\"Bad Employee\", \"Good Employee\"] ,\n",
        "                yticklabels = [\"Bad Employee\", \"Good Employee\"] )\n",
        "    plt.ylabel('True label')\n",
        "    plt.xlabel('Predicted label')\n",
        "    plt.show()"
      ],
      "execution_count": null,
      "outputs": []
    },
    {
      "cell_type": "code",
      "metadata": {
        "colab": {
          "base_uri": "https://localhost:8080/",
          "height": 279
        },
        "id": "ruwl1LVzfoUF",
        "outputId": "d91e1e70-b859-497c-90d3-e78079b2383c"
      },
      "source": [
        "draw_cm( y_pred_df.actual,\n",
        "y_pred_df.predicted )"
      ],
      "execution_count": null,
      "outputs": [
        {
          "output_type": "display_data",
          "data": {
            "image/png": "[encoded data removed]",
            "text/plain": [
              "<Figure size 432x288 with 2 Axes>"
            ]
          },
          "metadata": {
            "needs_background": "light"
          }
        }
      ]
    },
    {
      "cell_type": "markdown",
      "metadata": {
        "id": "e-5mQfs2gAeO"
      },
      "source": [
        "**Measuring Accuracies**"
      ]
    },
    {
      "cell_type": "code",
      "metadata": {
        "colab": {
          "base_uri": "https://localhost:8080/"
        },
        "id": "8CeXImFWgCl8",
        "outputId": "3774d5dc-91a6-44ea-81df-5a951b60dac8"
      },
      "source": [
        "print( metrics.classification_report( y_pred_df.actual,\n",
        "y_pred_df.predicted ) )"
      ],
      "execution_count": null,
      "outputs": [
        {
          "output_type": "stream",
          "name": "stdout",
          "text": [
            "              precision    recall  f1-score   support\n",
            "\n",
            "           0       0.81      0.93      0.87      3401\n",
            "           1       0.60      0.33      0.42      1099\n",
            "\n",
            "    accuracy                           0.78      4500\n",
            "   macro avg       0.70      0.63      0.64      4500\n",
            "weighted avg       0.76      0.78      0.76      4500\n",
            "\n"
          ]
        }
      ]
    },
    {
      "cell_type": "code",
      "metadata": {
        "colab": {
          "base_uri": "https://localhost:8080/",
          "height": 482
        },
        "id": "A8vkebzQgPEW",
        "outputId": "f6bd5b8c-4477-4db1-9669-04cd9ab02ec7"
      },
      "source": [
        "plt.figure( figsize = (8,6) )\n",
        "sn.distplot( y_pred_df[y_pred_df.actual == 1][\"predicted_prob\"],\n",
        "kde=False, color = 'b',\n",
        "label = 'Bad Employee' )\n",
        "sn.distplot( y_pred_df[y_pred_df.actual == 0][\"predicted_prob\"],\n",
        "kde=False, color = 'g',\n",
        "label = 'Good Employee' )\n",
        "plt.legend()\n",
        "plt.show()"
      ],
      "execution_count": null,
      "outputs": [
        {
          "output_type": "stream",
          "name": "stderr",
          "text": [
            "/usr/local/lib/python3.7/dist-packages/seaborn/distributions.py:2557: FutureWarning: `distplot` is a deprecated function and will be removed in a future version. Please adapt your code to use either `displot` (a figure-level function with similar flexibility) or `histplot` (an axes-level function for histograms).\n",
            "  warnings.warn(msg, FutureWarning)\n",
            "/usr/local/lib/python3.7/dist-packages/seaborn/distributions.py:2557: FutureWarning: `distplot` is a deprecated function and will be removed in a future version. Please adapt your code to use either `displot` (a figure-level function with similar flexibility) or `histplot` (an axes-level function for histograms).\n",
            "  warnings.warn(msg, FutureWarning)\n"
          ]
        },
        {
          "output_type": "display_data",
          "data": {
            "image/png": "[encoded data removed]",
            "text/plain": [
              "<Figure size 576x432 with 1 Axes>"
            ]
          },
          "metadata": {
            "needs_background": "light"
          }
        }
      ]
    },
    {
      "cell_type": "markdown",
      "metadata": {
        "id": "9IbgHSg4gVfv"
      },
      "source": [
        "**ROC & AUC**"
      ]
    },
    {
      "cell_type": "code",
      "metadata": {
        "id": "qn1hFlo6gXZx"
      },
      "source": [
        "def draw_roc( actual, probs ):\n",
        "    fpr, \\\n",
        "    tpr, \\\n",
        "    thresholds = metrics.roc_curve( actual,\n",
        "                                    probs,\n",
        "                                    drop_intermediate = False )\n",
        "    auc_score = metrics.roc_auc_score( actual, probs )\n",
        "    plt.figure(figsize=(8, 6))\n",
        "    plt.plot( fpr, tpr, label='ROC curve (area = %0.2f)' % auc_score )\n",
        "    plt.plot([0, 1], [0, 1], 'k--')\n",
        "    plt.xlim([0.0, 1.0])\n",
        "    plt.ylim([0.0, 1.05])\n",
        "    plt.xlabel('False Positive Rate or [1 - True Negative Rate]')\n",
        "    plt.ylabel('True Positive Rate')\n",
        "    plt.legend(loc=\"lower right\")\n",
        "    plt.show()\n",
        "    \n",
        "    return fpr, tpr, thresholds"
      ],
      "execution_count": null,
      "outputs": []
    },
    {
      "cell_type": "code",
      "metadata": {
        "colab": {
          "base_uri": "https://localhost:8080/",
          "height": 388
        },
        "id": "BhGm6bGKgzsb",
        "outputId": "bf93039a-c0ae-46d0-fe68-55ae226fa3d4"
      },
      "source": [
        "fpr, tpr, thresholds = draw_roc( y_pred_df.actual,\n",
        "y_pred_df.predicted_prob)"
      ],
      "execution_count": null,
      "outputs": [
        {
          "output_type": "display_data",
          "data": {
            "image/png": "[encoded data removed]",
            "text/plain": [
              "<Figure size 576x432 with 1 Axes>"
            ]
          },
          "metadata": {
            "needs_background": "light"
          }
        }
      ]
    },
    {
      "cell_type": "code",
      "metadata": {
        "colab": {
          "base_uri": "https://localhost:8080/"
        },
        "id": "0_mQwrOyg7YD",
        "outputId": "1f5cad9f-13ec-4206-b68c-3ddd9523673a"
      },
      "source": [
        "auc_score = metrics.roc_auc_score( y_pred_df.actual,\n",
        "y_pred_df.predicted_prob )\n",
        "round( float( auc_score ), 2 )"
      ],
      "execution_count": null,
      "outputs": [
        {
          "output_type": "execute_result",
          "data": {
            "text/plain": [
              "0.83"
            ]
          },
          "metadata": {},
          "execution_count": 35
        }
      ]
    },
    {
      "cell_type": "markdown",
      "metadata": {
        "id": "L27NCa8nhCyA"
      },
      "source": [
        "**Finding Optimal Cutoff**\n",
        " \n",
        " Youden's index"
      ]
    },
    {
      "cell_type": "code",
      "metadata": {
        "colab": {
          "base_uri": "https://localhost:8080/",
          "height": 206
        },
        "id": "PXEQ7iK7hEPs",
        "outputId": "2f45e715-0139-4885-bc1a-f5ba893488f1"
      },
      "source": [
        "tpr_fpr = pd.DataFrame( { 'tpr': tpr,\n",
        "                          'fpr': fpr,\n",
        "                          'thresholds': thresholds } )\n",
        "tpr_fpr['diff'] = tpr_fpr.tpr - tpr_fpr.fpr\n",
        "tpr_fpr.sort_values( 'diff', ascending = False )[0:5]"
      ],
      "execution_count": null,
      "outputs": [
        {
          "output_type": "execute_result",
          "data": {
            "text/html": [
              "<div>\n",
              "<style scoped>\n",
              "    .dataframe tbody tr th:only-of-type {\n",
              "        vertical-align: middle;\n",
              "    }\n",
              "\n",
              "    .dataframe tbody tr th {\n",
              "        vertical-align: top;\n",
              "    }\n",
              "\n",
              "    .dataframe thead th {\n",
              "        text-align: right;\n",
              "    }\n",
              "</style>\n",
              "<table border=\"1\" class=\"dataframe\">\n",
              "  <thead>\n",
              "    <tr style=\"text-align: right;\">\n",
              "      <th></th>\n",
              "      <th>tpr</th>\n",
              "      <th>fpr</th>\n",
              "      <th>thresholds</th>\n",
              "      <th>diff</th>\n",
              "    </tr>\n",
              "  </thead>\n",
              "  <tbody>\n",
              "    <tr>\n",
              "      <th>1540</th>\n",
              "      <td>0.795268</td>\n",
              "      <td>0.254925</td>\n",
              "      <td>0.238518</td>\n",
              "      <td>0.540343</td>\n",
              "    </tr>\n",
              "    <tr>\n",
              "      <th>1541</th>\n",
              "      <td>0.795268</td>\n",
              "      <td>0.255219</td>\n",
              "      <td>0.238358</td>\n",
              "      <td>0.540049</td>\n",
              "    </tr>\n",
              "    <tr>\n",
              "      <th>1510</th>\n",
              "      <td>0.787079</td>\n",
              "      <td>0.247280</td>\n",
              "      <td>0.241847</td>\n",
              "      <td>0.539799</td>\n",
              "    </tr>\n",
              "    <tr>\n",
              "      <th>1542</th>\n",
              "      <td>0.795268</td>\n",
              "      <td>0.255513</td>\n",
              "      <td>0.238216</td>\n",
              "      <td>0.539755</td>\n",
              "    </tr>\n",
              "    <tr>\n",
              "      <th>1555</th>\n",
              "      <td>0.797998</td>\n",
              "      <td>0.258453</td>\n",
              "      <td>0.236526</td>\n",
              "      <td>0.539545</td>\n",
              "    </tr>\n",
              "  </tbody>\n",
              "</table>\n",
              "</div>"
            ],
            "text/plain": [
              "           tpr       fpr  thresholds      diff\n",
              "1540  0.795268  0.254925    0.238518  0.540343\n",
              "1541  0.795268  0.255219    0.238358  0.540049\n",
              "1510  0.787079  0.247280    0.241847  0.539799\n",
              "1542  0.795268  0.255513    0.238216  0.539755\n",
              "1555  0.797998  0.258453    0.236526  0.539545"
            ]
          },
          "metadata": {},
          "execution_count": 36
        }
      ]
    },
    {
      "cell_type": "code",
      "metadata": {
        "id": "551aiZzWhUx_"
      },
      "source": [
        "y_pred_df['predicted_new'] = y_pred_df.predicted_prob.map(\n",
        "                                lambda x: 1 if x > 0.22 else 0)"
      ],
      "execution_count": null,
      "outputs": []
    },
    {
      "cell_type": "code",
      "metadata": {
        "colab": {
          "base_uri": "https://localhost:8080/",
          "height": 279
        },
        "id": "eiLBNX3Lha1p",
        "outputId": "0f34b4bf-47f5-4650-e086-ab35275df7c5"
      },
      "source": [
        "draw_cm( y_pred_df.actual,\n",
        "        y_pred_df.predicted_new)"
      ],
      "execution_count": null,
      "outputs": [
        {
          "output_type": "display_data",
          "data": {
            "image/png": "[encoded data removed]",
            "text/plain": [
              "<Figure size 432x288 with 2 Axes>"
            ]
          },
          "metadata": {
            "needs_background": "light"
          }
        }
      ]
    },
    {
      "cell_type": "code",
      "metadata": {
        "colab": {
          "base_uri": "https://localhost:8080/"
        },
        "id": "Ijy_vEuhhjOF",
        "outputId": "e9620187-f079-4de9-d7a4-121c13d1e68e"
      },
      "source": [
        "print(metrics.classification_report( y_pred_df.actual,\n",
        "y_pred_df.predicted_new ))"
      ],
      "execution_count": null,
      "outputs": [
        {
          "output_type": "stream",
          "name": "stdout",
          "text": [
            "              precision    recall  f1-score   support\n",
            "\n",
            "           0       0.92      0.72      0.81      3401\n",
            "           1       0.48      0.81      0.61      1099\n",
            "\n",
            "    accuracy                           0.74      4500\n",
            "   macro avg       0.70      0.77      0.71      4500\n",
            "weighted avg       0.82      0.74      0.76      4500\n",
            "\n"
          ]
        }
      ]
    }
  ]
}