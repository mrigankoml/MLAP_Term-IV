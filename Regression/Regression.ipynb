{
  "nbformat": 4,
  "nbformat_minor": 0,
  "metadata": {
    "colab": {
      "name": "Regression.ipynb",
      "provenance": [],
      "include_colab_link": true
    },
    "kernelspec": {
      "name": "python3",
      "display_name": "Python 3"
    },
    "language_info": {
      "name": "python"
    }
  },
  "cells": [
    {
      "cell_type": "markdown",
      "metadata": {
        "id": "view-in-github",
        "colab_type": "text"
      },
      "source": [
        "<a href=\"https://colab.research.google.com/github/rssmahesh1/NewMLA/blob/main/Regression/Regression.ipynb\" target=\"_parent\"><img src=\"https://colab.research.google.com/assets/colab-badge.svg\" alt=\"Open In Colab\"/></a>"
      ]
    },
    {
      "cell_type": "code",
      "metadata": {
        "id": "Ru6nx-LPrErs"
      },
      "source": [
        "import pandas as pd\n",
        "import numpy as np\n"
      ],
      "execution_count": 5,
      "outputs": []
    },
    {
      "cell_type": "code",
      "metadata": {
        "colab": {
          "base_uri": "https://localhost:8080/",
          "height": 363
        },
        "id": "-eSBMhhbrNzK",
        "outputId": "3eeef1a5-8994-4b58-f792-68bac21ede94"
      },
      "source": [
        "df = pd.read_csv( 'https://raw.githubusercontent.com/rssmahesh1/NewMLA/main/Regression/MBA%20Salary.csv' )\n",
        "df.head( 10 )"
      ],
      "execution_count": 6,
      "outputs": [
        {
          "output_type": "execute_result",
          "data": {
            "text/html": [
              "<div>\n",
              "<style scoped>\n",
              "    .dataframe tbody tr th:only-of-type {\n",
              "        vertical-align: middle;\n",
              "    }\n",
              "\n",
              "    .dataframe tbody tr th {\n",
              "        vertical-align: top;\n",
              "    }\n",
              "\n",
              "    .dataframe thead th {\n",
              "        text-align: right;\n",
              "    }\n",
              "</style>\n",
              "<table border=\"1\" class=\"dataframe\">\n",
              "  <thead>\n",
              "    <tr style=\"text-align: right;\">\n",
              "      <th></th>\n",
              "      <th>S. No.</th>\n",
              "      <th>Percentage in Grade 10</th>\n",
              "      <th>Salary</th>\n",
              "    </tr>\n",
              "  </thead>\n",
              "  <tbody>\n",
              "    <tr>\n",
              "      <th>0</th>\n",
              "      <td>1</td>\n",
              "      <td>62.00</td>\n",
              "      <td>270000</td>\n",
              "    </tr>\n",
              "    <tr>\n",
              "      <th>1</th>\n",
              "      <td>2</td>\n",
              "      <td>76.33</td>\n",
              "      <td>200000</td>\n",
              "    </tr>\n",
              "    <tr>\n",
              "      <th>2</th>\n",
              "      <td>3</td>\n",
              "      <td>72.00</td>\n",
              "      <td>240000</td>\n",
              "    </tr>\n",
              "    <tr>\n",
              "      <th>3</th>\n",
              "      <td>4</td>\n",
              "      <td>60.00</td>\n",
              "      <td>250000</td>\n",
              "    </tr>\n",
              "    <tr>\n",
              "      <th>4</th>\n",
              "      <td>5</td>\n",
              "      <td>61.00</td>\n",
              "      <td>180000</td>\n",
              "    </tr>\n",
              "    <tr>\n",
              "      <th>5</th>\n",
              "      <td>6</td>\n",
              "      <td>55.00</td>\n",
              "      <td>300000</td>\n",
              "    </tr>\n",
              "    <tr>\n",
              "      <th>6</th>\n",
              "      <td>7</td>\n",
              "      <td>70.00</td>\n",
              "      <td>260000</td>\n",
              "    </tr>\n",
              "    <tr>\n",
              "      <th>7</th>\n",
              "      <td>8</td>\n",
              "      <td>68.00</td>\n",
              "      <td>235000</td>\n",
              "    </tr>\n",
              "    <tr>\n",
              "      <th>8</th>\n",
              "      <td>9</td>\n",
              "      <td>82.80</td>\n",
              "      <td>425000</td>\n",
              "    </tr>\n",
              "    <tr>\n",
              "      <th>9</th>\n",
              "      <td>10</td>\n",
              "      <td>59.00</td>\n",
              "      <td>240000</td>\n",
              "    </tr>\n",
              "  </tbody>\n",
              "</table>\n",
              "</div>"
            ],
            "text/plain": [
              "   S. No.  Percentage in Grade 10  Salary\n",
              "0       1                   62.00  270000\n",
              "1       2                   76.33  200000\n",
              "2       3                   72.00  240000\n",
              "3       4                   60.00  250000\n",
              "4       5                   61.00  180000\n",
              "5       6                   55.00  300000\n",
              "6       7                   70.00  260000\n",
              "7       8                   68.00  235000\n",
              "8       9                   82.80  425000\n",
              "9      10                   59.00  240000"
            ]
          },
          "metadata": {
            "tags": []
          },
          "execution_count": 6
        }
      ]
    },
    {
      "cell_type": "markdown",
      "metadata": {
        "id": "ju0z1n96r46S"
      },
      "source": [
        "**More information about the dataset**"
      ]
    },
    {
      "cell_type": "code",
      "metadata": {
        "colab": {
          "base_uri": "https://localhost:8080/"
        },
        "id": "ipgIwph9r7oM",
        "outputId": "2ff79712-55c2-4534-8d35-df0726ddac6e"
      },
      "source": [
        "df.info()"
      ],
      "execution_count": 7,
      "outputs": [
        {
          "output_type": "stream",
          "text": [
            "<class 'pandas.core.frame.DataFrame'>\n",
            "RangeIndex: 50 entries, 0 to 49\n",
            "Data columns (total 3 columns):\n",
            " #   Column                  Non-Null Count  Dtype  \n",
            "---  ------                  --------------  -----  \n",
            " 0   S. No.                  50 non-null     int64  \n",
            " 1   Percentage in Grade 10  50 non-null     float64\n",
            " 2   Salary                  50 non-null     int64  \n",
            "dtypes: float64(1), int64(2)\n",
            "memory usage: 1.3 KB\n"
          ],
          "name": "stdout"
        }
      ]
    },
    {
      "cell_type": "markdown",
      "metadata": {
        "id": "-hb5pshVsPKX"
      },
      "source": [
        "## **Creating Feature Set(X) and Outcome Variable(Y)**"
      ]
    },
    {
      "cell_type": "code",
      "metadata": {
        "colab": {
          "base_uri": "https://localhost:8080/",
          "height": 263
        },
        "id": "Ck_v6_fvsOKE",
        "outputId": "3fc450ce-ef9b-47ad-d49f-6d8300564d26"
      },
      "source": [
        "import statsmodels.api as sm\n",
        "X = sm.add_constant( df['Percentage in Grade 10'] )\n",
        "X.head(5)"
      ],
      "execution_count": 8,
      "outputs": [
        {
          "output_type": "stream",
          "text": [
            "/usr/local/lib/python3.7/dist-packages/statsmodels/tools/_testing.py:19: FutureWarning: pandas.util.testing is deprecated. Use the functions in the public API at pandas.testing instead.\n",
            "  import pandas.util.testing as tm\n"
          ],
          "name": "stderr"
        },
        {
          "output_type": "execute_result",
          "data": {
            "text/html": [
              "<div>\n",
              "<style scoped>\n",
              "    .dataframe tbody tr th:only-of-type {\n",
              "        vertical-align: middle;\n",
              "    }\n",
              "\n",
              "    .dataframe tbody tr th {\n",
              "        vertical-align: top;\n",
              "    }\n",
              "\n",
              "    .dataframe thead th {\n",
              "        text-align: right;\n",
              "    }\n",
              "</style>\n",
              "<table border=\"1\" class=\"dataframe\">\n",
              "  <thead>\n",
              "    <tr style=\"text-align: right;\">\n",
              "      <th></th>\n",
              "      <th>const</th>\n",
              "      <th>Percentage in Grade 10</th>\n",
              "    </tr>\n",
              "  </thead>\n",
              "  <tbody>\n",
              "    <tr>\n",
              "      <th>0</th>\n",
              "      <td>1.0</td>\n",
              "      <td>62.00</td>\n",
              "    </tr>\n",
              "    <tr>\n",
              "      <th>1</th>\n",
              "      <td>1.0</td>\n",
              "      <td>76.33</td>\n",
              "    </tr>\n",
              "    <tr>\n",
              "      <th>2</th>\n",
              "      <td>1.0</td>\n",
              "      <td>72.00</td>\n",
              "    </tr>\n",
              "    <tr>\n",
              "      <th>3</th>\n",
              "      <td>1.0</td>\n",
              "      <td>60.00</td>\n",
              "    </tr>\n",
              "    <tr>\n",
              "      <th>4</th>\n",
              "      <td>1.0</td>\n",
              "      <td>61.00</td>\n",
              "    </tr>\n",
              "  </tbody>\n",
              "</table>\n",
              "</div>"
            ],
            "text/plain": [
              "   const  Percentage in Grade 10\n",
              "0    1.0                   62.00\n",
              "1    1.0                   76.33\n",
              "2    1.0                   72.00\n",
              "3    1.0                   60.00\n",
              "4    1.0                   61.00"
            ]
          },
          "metadata": {
            "tags": []
          },
          "execution_count": 8
        }
      ]
    },
    {
      "cell_type": "code",
      "metadata": {
        "id": "6rHq94ywwVwT"
      },
      "source": [
        "Y = df['Salary']"
      ],
      "execution_count": 9,
      "outputs": []
    },
    {
      "cell_type": "markdown",
      "metadata": {
        "id": "J1iz-hhzwdWq"
      },
      "source": [
        "**# Splitting the dataset into training and validation sets**"
      ]
    },
    {
      "cell_type": "code",
      "metadata": {
        "id": "5ZU3AChKwk33"
      },
      "source": [
        "from sklearn.model_selection import train_test_split"
      ],
      "execution_count": 11,
      "outputs": []
    },
    {
      "cell_type": "code",
      "metadata": {
        "id": "s3Pq0lUcwsFq"
      },
      "source": [
        "train_X, test_X, train_y, test_y = train_test_split(X ,\n",
        "                                                    Y,\n",
        "                                                    train_size = 0.8,\n",
        "                                                    random_state = 100 )      "
      ],
      "execution_count": 12,
      "outputs": []
    },
    {
      "cell_type": "markdown",
      "metadata": {
        "id": "Typ5LVVjxA15"
      },
      "source": [
        "**Fitting the Model**"
      ]
    },
    {
      "cell_type": "code",
      "metadata": {
        "id": "TF-E1tRhxD0R"
      },
      "source": [
        "mba_salary_lm = sm.OLS( train_y, train_X ).fit()"
      ],
      "execution_count": 13,
      "outputs": []
    },
    {
      "cell_type": "markdown",
      "metadata": {
        "id": "c0LN98ewxQmx"
      },
      "source": [
        "**Printing Estimated Parameters and interpreting them**"
      ]
    },
    {
      "cell_type": "code",
      "metadata": {
        "colab": {
          "base_uri": "https://localhost:8080/"
        },
        "id": "Cq3LfzwqxSbD",
        "outputId": "d3d90ae4-e0ca-438e-bee4-4070d072548c"
      },
      "source": [
        "print( mba_salary_lm.params )"
      ],
      "execution_count": 14,
      "outputs": [
        {
          "output_type": "stream",
          "text": [
            "const                     30587.285652\n",
            "Percentage in Grade 10     3560.587383\n",
            "dtype: float64\n"
          ],
          "name": "stdout"
        }
      ]
    },
    {
      "cell_type": "markdown",
      "metadata": {
        "id": "Wr4RU_Uvxa_I"
      },
      "source": [
        "**Model Diagnostics**"
      ]
    },
    {
      "cell_type": "code",
      "metadata": {
        "colab": {
          "base_uri": "https://localhost:8080/",
          "height": 322
        },
        "id": "VpzcuRsbxdwf",
        "outputId": "aff12dd4-e791-40fe-e549-e71114e17b0f"
      },
      "source": [
        "mba_salary_lm.summary2()"
      ],
      "execution_count": 15,
      "outputs": [
        {
          "output_type": "execute_result",
          "data": {
            "text/html": [
              "<table class=\"simpletable\">\n",
              "<tr>\n",
              "        <td>Model:</td>               <td>OLS</td>         <td>Adj. R-squared:</td>      <td>0.190</td>  \n",
              "</tr>\n",
              "<tr>\n",
              "  <td>Dependent Variable:</td>      <td>Salary</td>             <td>AIC:</td>          <td>1008.8680</td>\n",
              "</tr>\n",
              "<tr>\n",
              "         <td>Date:</td>        <td>2021-08-18 00:54</td>        <td>BIC:</td>          <td>1012.2458</td>\n",
              "</tr>\n",
              "<tr>\n",
              "   <td>No. Observations:</td>         <td>40</td>          <td>Log-Likelihood:</td>     <td>-502.43</td> \n",
              "</tr>\n",
              "<tr>\n",
              "       <td>Df Model:</td>              <td>1</td>           <td>F-statistic:</td>        <td>10.16</td>  \n",
              "</tr>\n",
              "<tr>\n",
              "     <td>Df Residuals:</td>           <td>38</td>        <td>Prob (F-statistic):</td>   <td>0.00287</td> \n",
              "</tr>\n",
              "<tr>\n",
              "      <td>R-squared:</td>            <td>0.211</td>            <td>Scale:</td>        <td>5.0121e+09</td>\n",
              "</tr>\n",
              "</table>\n",
              "<table class=\"simpletable\">\n",
              "<tr>\n",
              "             <td></td>               <th>Coef.</th>    <th>Std.Err.</th>     <th>t</th>    <th>P>|t|</th>    <th>[0.025</th>      <th>0.975]</th>   \n",
              "</tr>\n",
              "<tr>\n",
              "  <th>const</th>                  <td>30587.2857</td> <td>71869.4497</td> <td>0.4256</td> <td>0.6728</td> <td>-114904.8089</td> <td>176079.3802</td>\n",
              "</tr>\n",
              "<tr>\n",
              "  <th>Percentage in Grade 10</th>  <td>3560.5874</td>  <td>1116.9258</td> <td>3.1878</td> <td>0.0029</td>   <td>1299.4892</td>   <td>5821.6855</td> \n",
              "</tr>\n",
              "</table>\n",
              "<table class=\"simpletable\">\n",
              "<tr>\n",
              "     <td>Omnibus:</td>    <td>2.048</td>  <td>Durbin-Watson:</td>   <td>2.611</td>\n",
              "</tr>\n",
              "<tr>\n",
              "  <td>Prob(Omnibus):</td> <td>0.359</td> <td>Jarque-Bera (JB):</td> <td>1.724</td>\n",
              "</tr>\n",
              "<tr>\n",
              "       <td>Skew:</td>     <td>0.369</td>     <td>Prob(JB):</td>     <td>0.422</td>\n",
              "</tr>\n",
              "<tr>\n",
              "     <td>Kurtosis:</td>   <td>2.300</td>  <td>Condition No.:</td>    <td>413</td> \n",
              "</tr>\n",
              "</table>"
            ],
            "text/plain": [
              "<class 'statsmodels.iolib.summary2.Summary'>\n",
              "\"\"\"\n",
              "                          Results: Ordinary least squares\n",
              "===================================================================================\n",
              "Model:                    OLS                   Adj. R-squared:          0.190     \n",
              "Dependent Variable:       Salary                AIC:                     1008.8680 \n",
              "Date:                     2021-08-18 00:54      BIC:                     1012.2458 \n",
              "No. Observations:         40                    Log-Likelihood:          -502.43   \n",
              "Df Model:                 1                     F-statistic:             10.16     \n",
              "Df Residuals:             38                    Prob (F-statistic):      0.00287   \n",
              "R-squared:                0.211                 Scale:                   5.0121e+09\n",
              "-----------------------------------------------------------------------------------\n",
              "                         Coef.     Std.Err.    t    P>|t|     [0.025       0.975]  \n",
              "-----------------------------------------------------------------------------------\n",
              "const                  30587.2857 71869.4497 0.4256 0.6728 -114904.8089 176079.3802\n",
              "Percentage in Grade 10  3560.5874  1116.9258 3.1878 0.0029    1299.4892   5821.6855\n",
              "-----------------------------------------------------------------------------------\n",
              "Omnibus:                    2.048              Durbin-Watson:                 2.611\n",
              "Prob(Omnibus):              0.359              Jarque-Bera (JB):              1.724\n",
              "Skew:                       0.369              Prob(JB):                      0.422\n",
              "Kurtosis:                   2.300              Condition No.:                 413  \n",
              "===================================================================================\n",
              "\n",
              "\"\"\""
            ]
          },
          "metadata": {
            "tags": []
          },
          "execution_count": 15
        }
      ]
    },
    {
      "cell_type": "markdown",
      "metadata": {
        "id": "1VY7YuAYxrm9"
      },
      "source": [
        "**Residual Anlalysis**\n",
        "\n",
        "Checking Normality"
      ]
    },
    {
      "cell_type": "code",
      "metadata": {
        "id": "RhoNmHjfxpuv"
      },
      "source": [
        "import matplotlib.pyplot as plt\n",
        "import seaborn as sn\n",
        "%matplotlib inline"
      ],
      "execution_count": 16,
      "outputs": []
    },
    {
      "cell_type": "code",
      "metadata": {
        "colab": {
          "base_uri": "https://localhost:8080/",
          "height": 313
        },
        "id": "_xcNPWmDyDaF",
        "outputId": "63134887-f5c9-4e5f-8dfd-c0ae9572ca09"
      },
      "source": [
        "mba_salary_resid = mba_salary_lm.resid\n",
        "probplot = sm.ProbPlot( mba_salary_resid )\n",
        "plt.figure( figsize = (8, 6) )\n",
        "probplot.ppplot( line='45' )\n",
        "plt.title( \"Fig 4.1 - Normal P-P Plot of Regression Standardized Residuals\" )\n",
        "plt.show()"
      ],
      "execution_count": 17,
      "outputs": [
        {
          "output_type": "display_data",
          "data": {
            "text/plain": [
              "<Figure size 576x432 with 0 Axes>"
            ]
          },
          "metadata": {
            "tags": []
          }
        },
        {
          "output_type": "display_data",
          "data": {
            "image/png": "[encoded data removed]",
            "text/plain": [
              "<Figure size 432x288 with 1 Axes>"
            ]
          },
          "metadata": {
            "tags": [],
            "needs_background": "light"
          }
        }
      ]
    },
    {
      "cell_type": "markdown",
      "metadata": {
        "id": "ZtFGoCg6yRgz"
      },
      "source": [
        "Test of Homoscedasticity"
      ]
    },
    {
      "cell_type": "code",
      "metadata": {
        "id": "l0DjK4CByQSb"
      },
      "source": [
        "def get_standardized_values( vals ):return (vals - vals.mean())/vals.std()"
      ],
      "execution_count": 18,
      "outputs": []
    },
    {
      "cell_type": "code",
      "metadata": {
        "colab": {
          "base_uri": "https://localhost:8080/",
          "height": 295
        },
        "id": "oAhtN3HMzcr3",
        "outputId": "65b3e6b7-ffb4-49d9-8a35-836c09ed2d50"
      },
      "source": [
        "plt.scatter( get_standardized_values( mba_salary_lm.fittedvalues ),\n",
        "get_standardized_values( mba_salary_resid ) )\n",
        "plt.title( \"Fig 4.2 - Residual Plot: MBA Salary Prediction\" );\n",
        "plt.xlabel( \"Standardized predicted values\")\n",
        "plt.ylabel( \"Standardized Residuals\");"
      ],
      "execution_count": 19,
      "outputs": [
        {
          "output_type": "display_data",
          "data": {
            "image/png": "[encoded data removed]",
            "text/plain": [
              "<Figure size 432x288 with 1 Axes>"
            ]
          },
          "metadata": {
            "tags": [],
            "needs_background": "light"
          }
        }
      ]
    },
    {
      "cell_type": "markdown",
      "metadata": {
        "id": "KBI-eIuU1klF"
      },
      "source": [
        "# **Outlier Analysis**\n",
        "\n",
        "Z-Score"
      ]
    },
    {
      "cell_type": "code",
      "metadata": {
        "id": "YXTOXbKt1sdU"
      },
      "source": [
        "from scipy.stats import zscore"
      ],
      "execution_count": 20,
      "outputs": []
    },
    {
      "cell_type": "code",
      "metadata": {
        "id": "XTKc9aR711Qk"
      },
      "source": [
        "df['z_score_salary'] = zscore( df.Salary )"
      ],
      "execution_count": 21,
      "outputs": []
    },
    {
      "cell_type": "code",
      "metadata": {
        "colab": {
          "base_uri": "https://localhost:8080/",
          "height": 1000
        },
        "id": "4ykMvgee2BTJ",
        "outputId": "754cb1ac-ed27-4d92-9a2c-9ea07fba3504"
      },
      "source": [
        "df[ (df.z_score_salary > 3.0) | (df.z_score_salary < -3.0) ]\n",
        "df"
      ],
      "execution_count": 25,
      "outputs": [
        {
          "output_type": "execute_result",
          "data": {
            "text/html": [
              "<div>\n",
              "<style scoped>\n",
              "    .dataframe tbody tr th:only-of-type {\n",
              "        vertical-align: middle;\n",
              "    }\n",
              "\n",
              "    .dataframe tbody tr th {\n",
              "        vertical-align: top;\n",
              "    }\n",
              "\n",
              "    .dataframe thead th {\n",
              "        text-align: right;\n",
              "    }\n",
              "</style>\n",
              "<table border=\"1\" class=\"dataframe\">\n",
              "  <thead>\n",
              "    <tr style=\"text-align: right;\">\n",
              "      <th></th>\n",
              "      <th>S. No.</th>\n",
              "      <th>Percentage in Grade 10</th>\n",
              "      <th>Salary</th>\n",
              "      <th>z_score_salary</th>\n",
              "    </tr>\n",
              "  </thead>\n",
              "  <tbody>\n",
              "    <tr>\n",
              "      <th>0</th>\n",
              "      <td>1</td>\n",
              "      <td>62.00</td>\n",
              "      <td>270000</td>\n",
              "      <td>0.155481</td>\n",
              "    </tr>\n",
              "    <tr>\n",
              "      <th>1</th>\n",
              "      <td>2</td>\n",
              "      <td>76.33</td>\n",
              "      <td>200000</td>\n",
              "      <td>-0.766241</td>\n",
              "    </tr>\n",
              "    <tr>\n",
              "      <th>2</th>\n",
              "      <td>3</td>\n",
              "      <td>72.00</td>\n",
              "      <td>240000</td>\n",
              "      <td>-0.239543</td>\n",
              "    </tr>\n",
              "    <tr>\n",
              "      <th>3</th>\n",
              "      <td>4</td>\n",
              "      <td>60.00</td>\n",
              "      <td>250000</td>\n",
              "      <td>-0.107868</td>\n",
              "    </tr>\n",
              "    <tr>\n",
              "      <th>4</th>\n",
              "      <td>5</td>\n",
              "      <td>61.00</td>\n",
              "      <td>180000</td>\n",
              "      <td>-1.029590</td>\n",
              "    </tr>\n",
              "    <tr>\n",
              "      <th>5</th>\n",
              "      <td>6</td>\n",
              "      <td>55.00</td>\n",
              "      <td>300000</td>\n",
              "      <td>0.550505</td>\n",
              "    </tr>\n",
              "    <tr>\n",
              "      <th>6</th>\n",
              "      <td>7</td>\n",
              "      <td>70.00</td>\n",
              "      <td>260000</td>\n",
              "      <td>0.023807</td>\n",
              "    </tr>\n",
              "    <tr>\n",
              "      <th>7</th>\n",
              "      <td>8</td>\n",
              "      <td>68.00</td>\n",
              "      <td>235000</td>\n",
              "      <td>-0.305380</td>\n",
              "    </tr>\n",
              "    <tr>\n",
              "      <th>8</th>\n",
              "      <td>9</td>\n",
              "      <td>82.80</td>\n",
              "      <td>425000</td>\n",
              "      <td>2.196439</td>\n",
              "    </tr>\n",
              "    <tr>\n",
              "      <th>9</th>\n",
              "      <td>10</td>\n",
              "      <td>59.00</td>\n",
              "      <td>240000</td>\n",
              "      <td>-0.239543</td>\n",
              "    </tr>\n",
              "    <tr>\n",
              "      <th>10</th>\n",
              "      <td>11</td>\n",
              "      <td>58.00</td>\n",
              "      <td>250000</td>\n",
              "      <td>-0.107868</td>\n",
              "    </tr>\n",
              "    <tr>\n",
              "      <th>11</th>\n",
              "      <td>12</td>\n",
              "      <td>60.00</td>\n",
              "      <td>180000</td>\n",
              "      <td>-1.029590</td>\n",
              "    </tr>\n",
              "    <tr>\n",
              "      <th>12</th>\n",
              "      <td>13</td>\n",
              "      <td>66.00</td>\n",
              "      <td>428000</td>\n",
              "      <td>2.235941</td>\n",
              "    </tr>\n",
              "    <tr>\n",
              "      <th>13</th>\n",
              "      <td>14</td>\n",
              "      <td>83.00</td>\n",
              "      <td>450000</td>\n",
              "      <td>2.525625</td>\n",
              "    </tr>\n",
              "    <tr>\n",
              "      <th>14</th>\n",
              "      <td>15</td>\n",
              "      <td>68.00</td>\n",
              "      <td>300000</td>\n",
              "      <td>0.550505</td>\n",
              "    </tr>\n",
              "    <tr>\n",
              "      <th>15</th>\n",
              "      <td>16</td>\n",
              "      <td>37.33</td>\n",
              "      <td>240000</td>\n",
              "      <td>-0.239543</td>\n",
              "    </tr>\n",
              "    <tr>\n",
              "      <th>16</th>\n",
              "      <td>17</td>\n",
              "      <td>79.00</td>\n",
              "      <td>252000</td>\n",
              "      <td>-0.081533</td>\n",
              "    </tr>\n",
              "    <tr>\n",
              "      <th>17</th>\n",
              "      <td>18</td>\n",
              "      <td>68.40</td>\n",
              "      <td>280000</td>\n",
              "      <td>0.287156</td>\n",
              "    </tr>\n",
              "    <tr>\n",
              "      <th>18</th>\n",
              "      <td>19</td>\n",
              "      <td>70.00</td>\n",
              "      <td>231000</td>\n",
              "      <td>-0.358050</td>\n",
              "    </tr>\n",
              "    <tr>\n",
              "      <th>19</th>\n",
              "      <td>20</td>\n",
              "      <td>59.00</td>\n",
              "      <td>224000</td>\n",
              "      <td>-0.450222</td>\n",
              "    </tr>\n",
              "    <tr>\n",
              "      <th>20</th>\n",
              "      <td>21</td>\n",
              "      <td>63.00</td>\n",
              "      <td>120000</td>\n",
              "      <td>-1.819638</td>\n",
              "    </tr>\n",
              "    <tr>\n",
              "      <th>21</th>\n",
              "      <td>22</td>\n",
              "      <td>50.00</td>\n",
              "      <td>260000</td>\n",
              "      <td>0.023807</td>\n",
              "    </tr>\n",
              "    <tr>\n",
              "      <th>22</th>\n",
              "      <td>23</td>\n",
              "      <td>69.00</td>\n",
              "      <td>300000</td>\n",
              "      <td>0.550505</td>\n",
              "    </tr>\n",
              "    <tr>\n",
              "      <th>23</th>\n",
              "      <td>24</td>\n",
              "      <td>52.00</td>\n",
              "      <td>120000</td>\n",
              "      <td>-1.819638</td>\n",
              "    </tr>\n",
              "    <tr>\n",
              "      <th>24</th>\n",
              "      <td>25</td>\n",
              "      <td>49.00</td>\n",
              "      <td>120000</td>\n",
              "      <td>-1.819638</td>\n",
              "    </tr>\n",
              "    <tr>\n",
              "      <th>25</th>\n",
              "      <td>26</td>\n",
              "      <td>64.60</td>\n",
              "      <td>250000</td>\n",
              "      <td>-0.107868</td>\n",
              "    </tr>\n",
              "    <tr>\n",
              "      <th>26</th>\n",
              "      <td>27</td>\n",
              "      <td>50.00</td>\n",
              "      <td>180000</td>\n",
              "      <td>-1.029590</td>\n",
              "    </tr>\n",
              "    <tr>\n",
              "      <th>27</th>\n",
              "      <td>28</td>\n",
              "      <td>74.00</td>\n",
              "      <td>218000</td>\n",
              "      <td>-0.529227</td>\n",
              "    </tr>\n",
              "    <tr>\n",
              "      <th>28</th>\n",
              "      <td>29</td>\n",
              "      <td>58.00</td>\n",
              "      <td>360000</td>\n",
              "      <td>1.340553</td>\n",
              "    </tr>\n",
              "    <tr>\n",
              "      <th>29</th>\n",
              "      <td>30</td>\n",
              "      <td>67.00</td>\n",
              "      <td>150000</td>\n",
              "      <td>-1.424614</td>\n",
              "    </tr>\n",
              "    <tr>\n",
              "      <th>30</th>\n",
              "      <td>31</td>\n",
              "      <td>75.00</td>\n",
              "      <td>250000</td>\n",
              "      <td>-0.107868</td>\n",
              "    </tr>\n",
              "    <tr>\n",
              "      <th>31</th>\n",
              "      <td>32</td>\n",
              "      <td>60.00</td>\n",
              "      <td>200000</td>\n",
              "      <td>-0.766241</td>\n",
              "    </tr>\n",
              "    <tr>\n",
              "      <th>32</th>\n",
              "      <td>33</td>\n",
              "      <td>55.00</td>\n",
              "      <td>300000</td>\n",
              "      <td>0.550505</td>\n",
              "    </tr>\n",
              "    <tr>\n",
              "      <th>33</th>\n",
              "      <td>34</td>\n",
              "      <td>78.00</td>\n",
              "      <td>330000</td>\n",
              "      <td>0.945529</td>\n",
              "    </tr>\n",
              "    <tr>\n",
              "      <th>34</th>\n",
              "      <td>35</td>\n",
              "      <td>50.08</td>\n",
              "      <td>265000</td>\n",
              "      <td>0.089644</td>\n",
              "    </tr>\n",
              "    <tr>\n",
              "      <th>35</th>\n",
              "      <td>36</td>\n",
              "      <td>56.00</td>\n",
              "      <td>340000</td>\n",
              "      <td>1.077204</td>\n",
              "    </tr>\n",
              "    <tr>\n",
              "      <th>36</th>\n",
              "      <td>37</td>\n",
              "      <td>68.00</td>\n",
              "      <td>177600</td>\n",
              "      <td>-1.061192</td>\n",
              "    </tr>\n",
              "    <tr>\n",
              "      <th>37</th>\n",
              "      <td>38</td>\n",
              "      <td>52.00</td>\n",
              "      <td>236000</td>\n",
              "      <td>-0.292212</td>\n",
              "    </tr>\n",
              "    <tr>\n",
              "      <th>38</th>\n",
              "      <td>39</td>\n",
              "      <td>54.00</td>\n",
              "      <td>265000</td>\n",
              "      <td>0.089644</td>\n",
              "    </tr>\n",
              "    <tr>\n",
              "      <th>39</th>\n",
              "      <td>40</td>\n",
              "      <td>52.00</td>\n",
              "      <td>200000</td>\n",
              "      <td>-0.766241</td>\n",
              "    </tr>\n",
              "    <tr>\n",
              "      <th>40</th>\n",
              "      <td>41</td>\n",
              "      <td>76.00</td>\n",
              "      <td>393000</td>\n",
              "      <td>1.775080</td>\n",
              "    </tr>\n",
              "    <tr>\n",
              "      <th>41</th>\n",
              "      <td>42</td>\n",
              "      <td>64.80</td>\n",
              "      <td>360000</td>\n",
              "      <td>1.340553</td>\n",
              "    </tr>\n",
              "    <tr>\n",
              "      <th>42</th>\n",
              "      <td>43</td>\n",
              "      <td>74.40</td>\n",
              "      <td>300000</td>\n",
              "      <td>0.550505</td>\n",
              "    </tr>\n",
              "    <tr>\n",
              "      <th>43</th>\n",
              "      <td>44</td>\n",
              "      <td>74.50</td>\n",
              "      <td>250000</td>\n",
              "      <td>-0.107868</td>\n",
              "    </tr>\n",
              "    <tr>\n",
              "      <th>44</th>\n",
              "      <td>45</td>\n",
              "      <td>73.50</td>\n",
              "      <td>360000</td>\n",
              "      <td>1.340553</td>\n",
              "    </tr>\n",
              "    <tr>\n",
              "      <th>45</th>\n",
              "      <td>46</td>\n",
              "      <td>57.58</td>\n",
              "      <td>180000</td>\n",
              "      <td>-1.029590</td>\n",
              "    </tr>\n",
              "    <tr>\n",
              "      <th>46</th>\n",
              "      <td>47</td>\n",
              "      <td>68.00</td>\n",
              "      <td>180000</td>\n",
              "      <td>-1.029590</td>\n",
              "    </tr>\n",
              "    <tr>\n",
              "      <th>47</th>\n",
              "      <td>48</td>\n",
              "      <td>69.00</td>\n",
              "      <td>270000</td>\n",
              "      <td>0.155481</td>\n",
              "    </tr>\n",
              "    <tr>\n",
              "      <th>48</th>\n",
              "      <td>49</td>\n",
              "      <td>66.00</td>\n",
              "      <td>240000</td>\n",
              "      <td>-0.239543</td>\n",
              "    </tr>\n",
              "    <tr>\n",
              "      <th>49</th>\n",
              "      <td>50</td>\n",
              "      <td>60.80</td>\n",
              "      <td>300000</td>\n",
              "      <td>0.550505</td>\n",
              "    </tr>\n",
              "  </tbody>\n",
              "</table>\n",
              "</div>"
            ],
            "text/plain": [
              "    S. No.  Percentage in Grade 10  Salary  z_score_salary\n",
              "0        1                   62.00  270000        0.155481\n",
              "1        2                   76.33  200000       -0.766241\n",
              "2        3                   72.00  240000       -0.239543\n",
              "3        4                   60.00  250000       -0.107868\n",
              "4        5                   61.00  180000       -1.029590\n",
              "5        6                   55.00  300000        0.550505\n",
              "6        7                   70.00  260000        0.023807\n",
              "7        8                   68.00  235000       -0.305380\n",
              "8        9                   82.80  425000        2.196439\n",
              "9       10                   59.00  240000       -0.239543\n",
              "10      11                   58.00  250000       -0.107868\n",
              "11      12                   60.00  180000       -1.029590\n",
              "12      13                   66.00  428000        2.235941\n",
              "13      14                   83.00  450000        2.525625\n",
              "14      15                   68.00  300000        0.550505\n",
              "15      16                   37.33  240000       -0.239543\n",
              "16      17                   79.00  252000       -0.081533\n",
              "17      18                   68.40  280000        0.287156\n",
              "18      19                   70.00  231000       -0.358050\n",
              "19      20                   59.00  224000       -0.450222\n",
              "20      21                   63.00  120000       -1.819638\n",
              "21      22                   50.00  260000        0.023807\n",
              "22      23                   69.00  300000        0.550505\n",
              "23      24                   52.00  120000       -1.819638\n",
              "24      25                   49.00  120000       -1.819638\n",
              "25      26                   64.60  250000       -0.107868\n",
              "26      27                   50.00  180000       -1.029590\n",
              "27      28                   74.00  218000       -0.529227\n",
              "28      29                   58.00  360000        1.340553\n",
              "29      30                   67.00  150000       -1.424614\n",
              "30      31                   75.00  250000       -0.107868\n",
              "31      32                   60.00  200000       -0.766241\n",
              "32      33                   55.00  300000        0.550505\n",
              "33      34                   78.00  330000        0.945529\n",
              "34      35                   50.08  265000        0.089644\n",
              "35      36                   56.00  340000        1.077204\n",
              "36      37                   68.00  177600       -1.061192\n",
              "37      38                   52.00  236000       -0.292212\n",
              "38      39                   54.00  265000        0.089644\n",
              "39      40                   52.00  200000       -0.766241\n",
              "40      41                   76.00  393000        1.775080\n",
              "41      42                   64.80  360000        1.340553\n",
              "42      43                   74.40  300000        0.550505\n",
              "43      44                   74.50  250000       -0.107868\n",
              "44      45                   73.50  360000        1.340553\n",
              "45      46                   57.58  180000       -1.029590\n",
              "46      47                   68.00  180000       -1.029590\n",
              "47      48                   69.00  270000        0.155481\n",
              "48      49                   66.00  240000       -0.239543\n",
              "49      50                   60.80  300000        0.550505"
            ]
          },
          "metadata": {
            "tags": []
          },
          "execution_count": 25
        }
      ]
    },
    {
      "cell_type": "markdown",
      "metadata": {
        "id": "JYzFmFVl2bVa"
      },
      "source": [
        "**Cook's Distance**"
      ]
    },
    {
      "cell_type": "code",
      "metadata": {
        "colab": {
          "base_uri": "https://localhost:8080/",
          "height": 352
        },
        "id": "MqajjN6k2gw-",
        "outputId": "837a1c65-6c17-4285-e465-0965fb928539"
      },
      "source": [
        "import numpy as np\n",
        "mba_influence = mba_salary_lm.get_influence()\n",
        "(c, p) = mba_influence.cooks_distance\n",
        "plt.stem( np.arange( len( train_X) ),\n",
        "np.round( c, 3 ),\n",
        "markerfmt=\",\" );\n",
        "plt.title( \"Figure 4.3 - Cooks distance for all observations in MBA Salaray dataset\" );\n",
        "plt.xlabel( \"Row index\")\n",
        "plt.ylabel( \"Cooks Distance\");"
      ],
      "execution_count": 23,
      "outputs": [
        {
          "output_type": "stream",
          "text": [
            "/usr/local/lib/python3.7/dist-packages/ipykernel_launcher.py:6: UserWarning: In Matplotlib 3.3 individual lines on a stem plot will be added as a LineCollection instead of individual lines. This significantly improves the performance of a stem plot. To remove this warning and switch to the new behaviour, set the \"use_line_collection\" keyword argument to True.\n",
            "  \n"
          ],
          "name": "stderr"
        },
        {
          "output_type": "display_data",
          "data": {
            "image/png": "[encoded data removed]",
            "text/plain": [
              "<Figure size 432x288 with 1 Axes>"
            ]
          },
          "metadata": {
            "tags": [],
            "needs_background": "light"
          }
        }
      ]
    },
    {
      "cell_type": "markdown",
      "metadata": {
        "id": "3oYXJkVE2zEo"
      },
      "source": [
        "**Leverage Values**"
      ]
    },
    {
      "cell_type": "code",
      "metadata": {
        "colab": {
          "base_uri": "https://localhost:8080/",
          "height": 409
        },
        "id": "MRyq-aq52yY2",
        "outputId": "1286f7ad-e9bb-4e7e-e9a3-a9a5db6b40ae"
      },
      "source": [
        "from statsmodels.graphics.regressionplots import influence_plot\n",
        "fig, ax = plt.subplots( figsize=(8,6) )\n",
        "influence_plot( mba_salary_lm, ax = ax )\n",
        "plt.title( \"Figure 4.4 - Leverage Value Vs Residuals\")\n",
        "plt.show();"
      ],
      "execution_count": null,
      "outputs": [
        {
          "output_type": "display_data",
          "data": {
            "image/png": "[encoded data removed]",
            "text/plain": [
              "<Figure size 576x432 with 1 Axes>"
            ]
          },
          "metadata": {
            "tags": [],
            "needs_background": "light"
          }
        }
      ]
    },
    {
      "cell_type": "markdown",
      "metadata": {
        "id": "ryUtaofq3AKx"
      },
      "source": [
        "**Making prediction using the model**"
      ]
    },
    {
      "cell_type": "markdown",
      "metadata": {
        "id": "uaJZLwmL3GQg"
      },
      "source": [
        "Predicting on validation set"
      ]
    },
    {
      "cell_type": "code",
      "metadata": {
        "id": "iOuXBur82vPX"
      },
      "source": [
        "pred_y = mba_salary_lm.predict( test_X )"
      ],
      "execution_count": null,
      "outputs": []
    },
    {
      "cell_type": "markdown",
      "metadata": {
        "id": "LLaVNAdb3VJH"
      },
      "source": [
        "**Finding R-Square and RMSE**"
      ]
    },
    {
      "cell_type": "code",
      "metadata": {
        "id": "pvj3OvX83ZPR"
      },
      "source": [
        "from sklearn.metrics import r2_score, mean_squared_error"
      ],
      "execution_count": null,
      "outputs": []
    },
    {
      "cell_type": "code",
      "metadata": {
        "colab": {
          "base_uri": "https://localhost:8080/"
        },
        "id": "9NV7uTxM3dza",
        "outputId": "ab93c8e3-dd51-4157-e2dd-2feb6da1f77b"
      },
      "source": [
        "np.abs(r2_score(test_y, pred_y))"
      ],
      "execution_count": null,
      "outputs": [
        {
          "output_type": "execute_result",
          "data": {
            "text/plain": [
              "0.156645849742304"
            ]
          },
          "metadata": {
            "tags": []
          },
          "execution_count": 41
        }
      ]
    },
    {
      "cell_type": "code",
      "metadata": {
        "id": "P1m8khD93ihw"
      },
      "source": [
        "import numpy"
      ],
      "execution_count": null,
      "outputs": []
    },
    {
      "cell_type": "code",
      "metadata": {
        "colab": {
          "base_uri": "https://localhost:8080/"
        },
        "id": "JWva2rZX3k-1",
        "outputId": "65b2e5fe-15db-4d08-d5ab-8278f79f8fcc"
      },
      "source": [
        "np.sqrt(mean_squared_error(test_y, pred_y))"
      ],
      "execution_count": null,
      "outputs": [
        {
          "output_type": "execute_result",
          "data": {
            "text/plain": [
              "73458.04348346895"
            ]
          },
          "metadata": {
            "tags": []
          },
          "execution_count": 43
        }
      ]
    },
    {
      "cell_type": "markdown",
      "metadata": {
        "id": "wZ0iebI93rDY"
      },
      "source": [
        "**Calculating prediction intervals**"
      ]
    },
    {
      "cell_type": "code",
      "metadata": {
        "id": "zHRqzC3o3xMG"
      },
      "source": [
        "from statsmodels.sandbox.regression.predstd import wls_prediction_std\n",
        "# Predict the y values\n",
        "pred_y = mba_salary_lm.predict( test_X )\n",
        "# Predict the low and high interval values for y\n",
        "_, pred_y_low, pred_y_high = wls_prediction_std( mba_salary_lm,\n",
        "test_X,\n",
        "alpha = 0.1)\n",
        "# Store all the values in a dataframe\n",
        "pred_y_df = pd.DataFrame( { 'grade_10_perc': test_X['Percentage in Grade 10'],\n",
        "'pred_y': pred_y,\n",
        "'pred_y_left': pred_y_low,\n",
        "'pred_y_right': pred_y_high } )"
      ],
      "execution_count": null,
      "outputs": []
    },
    {
      "cell_type": "code",
      "metadata": {
        "colab": {
          "base_uri": "https://localhost:8080/",
          "height": 358
        },
        "id": "y5f2cRMe352e",
        "outputId": "a5be9a03-b7e1-4ed1-be88-48d16c10cad7"
      },
      "source": [
        "pred_y_df[0:10]"
      ],
      "execution_count": null,
      "outputs": [
        {
          "output_type": "execute_result",
          "data": {
            "text/html": [
              "<div>\n",
              "<style scoped>\n",
              "    .dataframe tbody tr th:only-of-type {\n",
              "        vertical-align: middle;\n",
              "    }\n",
              "\n",
              "    .dataframe tbody tr th {\n",
              "        vertical-align: top;\n",
              "    }\n",
              "\n",
              "    .dataframe thead th {\n",
              "        text-align: right;\n",
              "    }\n",
              "</style>\n",
              "<table border=\"1\" class=\"dataframe\">\n",
              "  <thead>\n",
              "    <tr style=\"text-align: right;\">\n",
              "      <th></th>\n",
              "      <th>grade_10_perc</th>\n",
              "      <th>pred_y</th>\n",
              "      <th>pred_y_left</th>\n",
              "      <th>pred_y_right</th>\n",
              "    </tr>\n",
              "  </thead>\n",
              "  <tbody>\n",
              "    <tr>\n",
              "      <th>6</th>\n",
              "      <td>70.0</td>\n",
              "      <td>279828.402452</td>\n",
              "      <td>158379.832044</td>\n",
              "      <td>401276.972860</td>\n",
              "    </tr>\n",
              "    <tr>\n",
              "      <th>36</th>\n",
              "      <td>68.0</td>\n",
              "      <td>272707.227686</td>\n",
              "      <td>151576.715020</td>\n",
              "      <td>393837.740352</td>\n",
              "    </tr>\n",
              "    <tr>\n",
              "      <th>37</th>\n",
              "      <td>52.0</td>\n",
              "      <td>215737.829560</td>\n",
              "      <td>92950.942395</td>\n",
              "      <td>338524.716726</td>\n",
              "    </tr>\n",
              "    <tr>\n",
              "      <th>28</th>\n",
              "      <td>58.0</td>\n",
              "      <td>237101.353858</td>\n",
              "      <td>115806.869618</td>\n",
              "      <td>358395.838097</td>\n",
              "    </tr>\n",
              "    <tr>\n",
              "      <th>43</th>\n",
              "      <td>74.5</td>\n",
              "      <td>295851.045675</td>\n",
              "      <td>173266.083342</td>\n",
              "      <td>418436.008008</td>\n",
              "    </tr>\n",
              "    <tr>\n",
              "      <th>49</th>\n",
              "      <td>60.8</td>\n",
              "      <td>247070.998530</td>\n",
              "      <td>126117.560983</td>\n",
              "      <td>368024.436076</td>\n",
              "    </tr>\n",
              "    <tr>\n",
              "      <th>5</th>\n",
              "      <td>55.0</td>\n",
              "      <td>226419.591709</td>\n",
              "      <td>104507.444388</td>\n",
              "      <td>348331.739030</td>\n",
              "    </tr>\n",
              "    <tr>\n",
              "      <th>33</th>\n",
              "      <td>78.0</td>\n",
              "      <td>308313.101515</td>\n",
              "      <td>184450.060488</td>\n",
              "      <td>432176.142542</td>\n",
              "    </tr>\n",
              "    <tr>\n",
              "      <th>20</th>\n",
              "      <td>63.0</td>\n",
              "      <td>254904.290772</td>\n",
              "      <td>134057.999258</td>\n",
              "      <td>375750.582286</td>\n",
              "    </tr>\n",
              "    <tr>\n",
              "      <th>42</th>\n",
              "      <td>74.4</td>\n",
              "      <td>295494.986937</td>\n",
              "      <td>172941.528691</td>\n",
              "      <td>418048.445182</td>\n",
              "    </tr>\n",
              "  </tbody>\n",
              "</table>\n",
              "</div>"
            ],
            "text/plain": [
              "    grade_10_perc         pred_y    pred_y_left   pred_y_right\n",
              "6            70.0  279828.402452  158379.832044  401276.972860\n",
              "36           68.0  272707.227686  151576.715020  393837.740352\n",
              "37           52.0  215737.829560   92950.942395  338524.716726\n",
              "28           58.0  237101.353858  115806.869618  358395.838097\n",
              "43           74.5  295851.045675  173266.083342  418436.008008\n",
              "49           60.8  247070.998530  126117.560983  368024.436076\n",
              "5            55.0  226419.591709  104507.444388  348331.739030\n",
              "33           78.0  308313.101515  184450.060488  432176.142542\n",
              "20           63.0  254904.290772  134057.999258  375750.582286\n",
              "42           74.4  295494.986937  172941.528691  418048.445182"
            ]
          },
          "metadata": {
            "tags": []
          },
          "execution_count": 49
        }
      ]
    },
    {
      "cell_type": "code",
      "metadata": {
        "id": "k8dU5T6-61J7"
      },
      "source": [
        "pred_y_df.to_csv(\"prediction.csv\")"
      ],
      "execution_count": null,
      "outputs": []
    }
  ]
}