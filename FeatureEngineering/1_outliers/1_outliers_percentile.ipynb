{
  "nbformat": 4,
  "nbformat_minor": 0,
  "metadata": {
    "kernelspec": {
      "display_name": "Python 3",
      "language": "python",
      "name": "python3"
    },
    "language_info": {
      "codemirror_mode": {
        "name": "ipython",
        "version": 3
      },
      "file_extension": ".py",
      "mimetype": "text/x-python",
      "name": "python",
      "nbconvert_exporter": "python",
      "pygments_lexer": "ipython3",
      "version": "3.7.3"
    },
    "colab": {
      "name": "1_outliers_percentile.ipynb",
      "provenance": [],
      "include_colab_link": true
    }
  },
  "cells": [
    {
      "cell_type": "markdown",
      "metadata": {
        "id": "view-in-github",
        "colab_type": "text"
      },
      "source": [
        "<a href=\"https://colab.research.google.com/github/rssmahesh1/MLA2021/blob/main/FeatureEngineering/1_outliers/1_outliers_percentile.ipynb\" target=\"_parent\"><img src=\"https://colab.research.google.com/assets/colab-badge.svg\" alt=\"Open In Colab\"/></a>"
      ]
    },
    {
      "cell_type": "code",
      "metadata": {
        "id": "zP-zvDnUlUSA"
      },
      "source": [
        "import pandas as pd"
      ],
      "execution_count": 1,
      "outputs": []
    },
    {
      "cell_type": "code",
      "metadata": {
        "id": "Ur433_wZlUSC",
        "colab": {
          "base_uri": "https://localhost:8080/",
          "height": 204
        },
        "outputId": "dce77beb-c1ae-46e8-9a81-e2934a75f7ab"
      },
      "source": [
        "df = pd.read_csv(\"https://raw.githubusercontent.com/rssmahesh1/MLA2021/main/FeatureEngineering/1_outliers/heights.csv\")\n",
        "df.head()"
      ],
      "execution_count": 2,
      "outputs": [
        {
          "output_type": "execute_result",
          "data": {
            "text/html": [
              "<div>\n",
              "<style scoped>\n",
              "    .dataframe tbody tr th:only-of-type {\n",
              "        vertical-align: middle;\n",
              "    }\n",
              "\n",
              "    .dataframe tbody tr th {\n",
              "        vertical-align: top;\n",
              "    }\n",
              "\n",
              "    .dataframe thead th {\n",
              "        text-align: right;\n",
              "    }\n",
              "</style>\n",
              "<table border=\"1\" class=\"dataframe\">\n",
              "  <thead>\n",
              "    <tr style=\"text-align: right;\">\n",
              "      <th></th>\n",
              "      <th>name</th>\n",
              "      <th>height</th>\n",
              "    </tr>\n",
              "  </thead>\n",
              "  <tbody>\n",
              "    <tr>\n",
              "      <th>0</th>\n",
              "      <td>mohan</td>\n",
              "      <td>5.9</td>\n",
              "    </tr>\n",
              "    <tr>\n",
              "      <th>1</th>\n",
              "      <td>maria</td>\n",
              "      <td>5.2</td>\n",
              "    </tr>\n",
              "    <tr>\n",
              "      <th>2</th>\n",
              "      <td>sakib</td>\n",
              "      <td>5.1</td>\n",
              "    </tr>\n",
              "    <tr>\n",
              "      <th>3</th>\n",
              "      <td>tao</td>\n",
              "      <td>5.5</td>\n",
              "    </tr>\n",
              "    <tr>\n",
              "      <th>4</th>\n",
              "      <td>virat</td>\n",
              "      <td>4.9</td>\n",
              "    </tr>\n",
              "  </tbody>\n",
              "</table>\n",
              "</div>"
            ],
            "text/plain": [
              "    name  height\n",
              "0  mohan     5.9\n",
              "1  maria     5.2\n",
              "2  sakib     5.1\n",
              "3    tao     5.5\n",
              "4  virat     4.9"
            ]
          },
          "metadata": {
            "tags": []
          },
          "execution_count": 2
        }
      ]
    },
    {
      "cell_type": "markdown",
      "metadata": {
        "id": "F24XuwHGlUSD"
      },
      "source": [
        "<h3 style='color:purple'>Detect outliers using percentile</h3>"
      ]
    },
    {
      "cell_type": "code",
      "metadata": {
        "id": "Y3E3zY2KlUSD",
        "colab": {
          "base_uri": "https://localhost:8080/"
        },
        "outputId": "59f35e9b-0891-4fab-cb21-c24003d1c6b1"
      },
      "source": [
        "max_thresold = df['height'].quantile(0.95)\n",
        "max_thresold"
      ],
      "execution_count": 3,
      "outputs": [
        {
          "output_type": "execute_result",
          "data": {
            "text/plain": [
              "9.689999999999998"
            ]
          },
          "metadata": {
            "tags": []
          },
          "execution_count": 3
        }
      ]
    },
    {
      "cell_type": "code",
      "metadata": {
        "id": "o2I_Iqk1lUSE",
        "colab": {
          "base_uri": "https://localhost:8080/",
          "height": 80
        },
        "outputId": "7bd34e7a-ba44-415f-d2ae-7289e1b8c471"
      },
      "source": [
        "df[df['height']>max_thresold]"
      ],
      "execution_count": 4,
      "outputs": [
        {
          "output_type": "execute_result",
          "data": {
            "text/html": [
              "<div>\n",
              "<style scoped>\n",
              "    .dataframe tbody tr th:only-of-type {\n",
              "        vertical-align: middle;\n",
              "    }\n",
              "\n",
              "    .dataframe tbody tr th {\n",
              "        vertical-align: top;\n",
              "    }\n",
              "\n",
              "    .dataframe thead th {\n",
              "        text-align: right;\n",
              "    }\n",
              "</style>\n",
              "<table border=\"1\" class=\"dataframe\">\n",
              "  <thead>\n",
              "    <tr style=\"text-align: right;\">\n",
              "      <th></th>\n",
              "      <th>name</th>\n",
              "      <th>height</th>\n",
              "    </tr>\n",
              "  </thead>\n",
              "  <tbody>\n",
              "    <tr>\n",
              "      <th>9</th>\n",
              "      <td>imran</td>\n",
              "      <td>14.5</td>\n",
              "    </tr>\n",
              "  </tbody>\n",
              "</table>\n",
              "</div>"
            ],
            "text/plain": [
              "    name  height\n",
              "9  imran    14.5"
            ]
          },
          "metadata": {
            "tags": []
          },
          "execution_count": 4
        }
      ]
    },
    {
      "cell_type": "code",
      "metadata": {
        "id": "tz5emXvElUSE",
        "colab": {
          "base_uri": "https://localhost:8080/"
        },
        "outputId": "242dafc6-8e99-43ea-c3d5-0d24c03f12b5"
      },
      "source": [
        "min_thresold = df['height'].quantile(0.05)\n",
        "min_thresold"
      ],
      "execution_count": 5,
      "outputs": [
        {
          "output_type": "execute_result",
          "data": {
            "text/plain": [
              "3.6050000000000004"
            ]
          },
          "metadata": {
            "tags": []
          },
          "execution_count": 5
        }
      ]
    },
    {
      "cell_type": "code",
      "metadata": {
        "id": "vrp1RZRdlUSE",
        "colab": {
          "base_uri": "https://localhost:8080/",
          "height": 80
        },
        "outputId": "6e84ab6b-0f01-4802-caa3-bd3b9492add2"
      },
      "source": [
        "df[df['height']<min_thresold]"
      ],
      "execution_count": 6,
      "outputs": [
        {
          "output_type": "execute_result",
          "data": {
            "text/html": [
              "<div>\n",
              "<style scoped>\n",
              "    .dataframe tbody tr th:only-of-type {\n",
              "        vertical-align: middle;\n",
              "    }\n",
              "\n",
              "    .dataframe tbody tr th {\n",
              "        vertical-align: top;\n",
              "    }\n",
              "\n",
              "    .dataframe thead th {\n",
              "        text-align: right;\n",
              "    }\n",
              "</style>\n",
              "<table border=\"1\" class=\"dataframe\">\n",
              "  <thead>\n",
              "    <tr style=\"text-align: right;\">\n",
              "      <th></th>\n",
              "      <th>name</th>\n",
              "      <th>height</th>\n",
              "    </tr>\n",
              "  </thead>\n",
              "  <tbody>\n",
              "    <tr>\n",
              "      <th>12</th>\n",
              "      <td>yoseph</td>\n",
              "      <td>1.2</td>\n",
              "    </tr>\n",
              "  </tbody>\n",
              "</table>\n",
              "</div>"
            ],
            "text/plain": [
              "      name  height\n",
              "12  yoseph     1.2"
            ]
          },
          "metadata": {
            "tags": []
          },
          "execution_count": 6
        }
      ]
    },
    {
      "cell_type": "markdown",
      "metadata": {
        "id": "K7klvKualUSF"
      },
      "source": [
        "<h3 style='color:purple'>Remove outliers</h3>"
      ]
    },
    {
      "cell_type": "code",
      "metadata": {
        "scrolled": true,
        "id": "D67XJwEXlUSF",
        "colab": {
          "base_uri": "https://localhost:8080/",
          "height": 421
        },
        "outputId": "ed26e2b3-a811-4615-ef4f-9a52b348c724"
      },
      "source": [
        "df[(df['height']<max_thresold) & (df['height']>min_thresold)]"
      ],
      "execution_count": 7,
      "outputs": [
        {
          "output_type": "execute_result",
          "data": {
            "text/html": [
              "<div>\n",
              "<style scoped>\n",
              "    .dataframe tbody tr th:only-of-type {\n",
              "        vertical-align: middle;\n",
              "    }\n",
              "\n",
              "    .dataframe tbody tr th {\n",
              "        vertical-align: top;\n",
              "    }\n",
              "\n",
              "    .dataframe thead th {\n",
              "        text-align: right;\n",
              "    }\n",
              "</style>\n",
              "<table border=\"1\" class=\"dataframe\">\n",
              "  <thead>\n",
              "    <tr style=\"text-align: right;\">\n",
              "      <th></th>\n",
              "      <th>name</th>\n",
              "      <th>height</th>\n",
              "    </tr>\n",
              "  </thead>\n",
              "  <tbody>\n",
              "    <tr>\n",
              "      <th>0</th>\n",
              "      <td>mohan</td>\n",
              "      <td>5.9</td>\n",
              "    </tr>\n",
              "    <tr>\n",
              "      <th>1</th>\n",
              "      <td>maria</td>\n",
              "      <td>5.2</td>\n",
              "    </tr>\n",
              "    <tr>\n",
              "      <th>2</th>\n",
              "      <td>sakib</td>\n",
              "      <td>5.1</td>\n",
              "    </tr>\n",
              "    <tr>\n",
              "      <th>3</th>\n",
              "      <td>tao</td>\n",
              "      <td>5.5</td>\n",
              "    </tr>\n",
              "    <tr>\n",
              "      <th>4</th>\n",
              "      <td>virat</td>\n",
              "      <td>4.9</td>\n",
              "    </tr>\n",
              "    <tr>\n",
              "      <th>5</th>\n",
              "      <td>khusbu</td>\n",
              "      <td>5.4</td>\n",
              "    </tr>\n",
              "    <tr>\n",
              "      <th>6</th>\n",
              "      <td>dmitry</td>\n",
              "      <td>6.2</td>\n",
              "    </tr>\n",
              "    <tr>\n",
              "      <th>7</th>\n",
              "      <td>selena</td>\n",
              "      <td>6.5</td>\n",
              "    </tr>\n",
              "    <tr>\n",
              "      <th>8</th>\n",
              "      <td>john</td>\n",
              "      <td>7.1</td>\n",
              "    </tr>\n",
              "    <tr>\n",
              "      <th>10</th>\n",
              "      <td>jose</td>\n",
              "      <td>6.1</td>\n",
              "    </tr>\n",
              "    <tr>\n",
              "      <th>11</th>\n",
              "      <td>deepika</td>\n",
              "      <td>5.6</td>\n",
              "    </tr>\n",
              "    <tr>\n",
              "      <th>13</th>\n",
              "      <td>binod</td>\n",
              "      <td>5.5</td>\n",
              "    </tr>\n",
              "  </tbody>\n",
              "</table>\n",
              "</div>"
            ],
            "text/plain": [
              "       name  height\n",
              "0     mohan     5.9\n",
              "1     maria     5.2\n",
              "2     sakib     5.1\n",
              "3       tao     5.5\n",
              "4     virat     4.9\n",
              "5    khusbu     5.4\n",
              "6    dmitry     6.2\n",
              "7    selena     6.5\n",
              "8      john     7.1\n",
              "10     jose     6.1\n",
              "11  deepika     5.6\n",
              "13    binod     5.5"
            ]
          },
          "metadata": {
            "tags": []
          },
          "execution_count": 7
        }
      ]
    },
    {
      "cell_type": "markdown",
      "metadata": {
        "id": "rOSBXbxNlUSG"
      },
      "source": [
        "<h3 style='color:purple'>Now lets explore banglore property prices dataset</h3>"
      ]
    },
    {
      "cell_type": "code",
      "metadata": {
        "scrolled": true,
        "id": "bfxsPiCQlUSG",
        "colab": {
          "base_uri": "https://localhost:8080/",
          "height": 204
        },
        "outputId": "65d666ea-134b-4035-9a6d-643b7e7a6435"
      },
      "source": [
        "df = pd.read_csv(\"https://raw.githubusercontent.com/rssmahesh1/MLA2021/main/FeatureEngineering/1_outliers/bhp.csv\")\n",
        "df.head()"
      ],
      "execution_count": 8,
      "outputs": [
        {
          "output_type": "execute_result",
          "data": {
            "text/html": [
              "<div>\n",
              "<style scoped>\n",
              "    .dataframe tbody tr th:only-of-type {\n",
              "        vertical-align: middle;\n",
              "    }\n",
              "\n",
              "    .dataframe tbody tr th {\n",
              "        vertical-align: top;\n",
              "    }\n",
              "\n",
              "    .dataframe thead th {\n",
              "        text-align: right;\n",
              "    }\n",
              "</style>\n",
              "<table border=\"1\" class=\"dataframe\">\n",
              "  <thead>\n",
              "    <tr style=\"text-align: right;\">\n",
              "      <th></th>\n",
              "      <th>location</th>\n",
              "      <th>size</th>\n",
              "      <th>total_sqft</th>\n",
              "      <th>bath</th>\n",
              "      <th>price</th>\n",
              "      <th>bhk</th>\n",
              "      <th>price_per_sqft</th>\n",
              "    </tr>\n",
              "  </thead>\n",
              "  <tbody>\n",
              "    <tr>\n",
              "      <th>0</th>\n",
              "      <td>Electronic City Phase II</td>\n",
              "      <td>2 BHK</td>\n",
              "      <td>1056.0</td>\n",
              "      <td>2.0</td>\n",
              "      <td>39.07</td>\n",
              "      <td>2</td>\n",
              "      <td>3699</td>\n",
              "    </tr>\n",
              "    <tr>\n",
              "      <th>1</th>\n",
              "      <td>Chikka Tirupathi</td>\n",
              "      <td>4 Bedroom</td>\n",
              "      <td>2600.0</td>\n",
              "      <td>5.0</td>\n",
              "      <td>120.00</td>\n",
              "      <td>4</td>\n",
              "      <td>4615</td>\n",
              "    </tr>\n",
              "    <tr>\n",
              "      <th>2</th>\n",
              "      <td>Uttarahalli</td>\n",
              "      <td>3 BHK</td>\n",
              "      <td>1440.0</td>\n",
              "      <td>2.0</td>\n",
              "      <td>62.00</td>\n",
              "      <td>3</td>\n",
              "      <td>4305</td>\n",
              "    </tr>\n",
              "    <tr>\n",
              "      <th>3</th>\n",
              "      <td>Lingadheeranahalli</td>\n",
              "      <td>3 BHK</td>\n",
              "      <td>1521.0</td>\n",
              "      <td>3.0</td>\n",
              "      <td>95.00</td>\n",
              "      <td>3</td>\n",
              "      <td>6245</td>\n",
              "    </tr>\n",
              "    <tr>\n",
              "      <th>4</th>\n",
              "      <td>Kothanur</td>\n",
              "      <td>2 BHK</td>\n",
              "      <td>1200.0</td>\n",
              "      <td>2.0</td>\n",
              "      <td>51.00</td>\n",
              "      <td>2</td>\n",
              "      <td>4250</td>\n",
              "    </tr>\n",
              "  </tbody>\n",
              "</table>\n",
              "</div>"
            ],
            "text/plain": [
              "                   location       size  total_sqft  ...   price  bhk  price_per_sqft\n",
              "0  Electronic City Phase II      2 BHK      1056.0  ...   39.07    2            3699\n",
              "1          Chikka Tirupathi  4 Bedroom      2600.0  ...  120.00    4            4615\n",
              "2               Uttarahalli      3 BHK      1440.0  ...   62.00    3            4305\n",
              "3        Lingadheeranahalli      3 BHK      1521.0  ...   95.00    3            6245\n",
              "4                  Kothanur      2 BHK      1200.0  ...   51.00    2            4250\n",
              "\n",
              "[5 rows x 7 columns]"
            ]
          },
          "metadata": {
            "tags": []
          },
          "execution_count": 8
        }
      ]
    },
    {
      "cell_type": "code",
      "metadata": {
        "id": "y7PqwzbKlUSG",
        "colab": {
          "base_uri": "https://localhost:8080/"
        },
        "outputId": "dd2c7566-b8d4-4479-ce24-d57bcd9380dd"
      },
      "source": [
        "df.shape"
      ],
      "execution_count": 9,
      "outputs": [
        {
          "output_type": "execute_result",
          "data": {
            "text/plain": [
              "(13200, 7)"
            ]
          },
          "metadata": {
            "tags": []
          },
          "execution_count": 9
        }
      ]
    },
    {
      "cell_type": "code",
      "metadata": {
        "scrolled": true,
        "id": "8NaWT1AIlUSH",
        "colab": {
          "base_uri": "https://localhost:8080/",
          "height": 297
        },
        "outputId": "063537a0-3124-4009-d25b-b6a04a4b1165"
      },
      "source": [
        "df.describe()"
      ],
      "execution_count": 10,
      "outputs": [
        {
          "output_type": "execute_result",
          "data": {
            "text/html": [
              "<div>\n",
              "<style scoped>\n",
              "    .dataframe tbody tr th:only-of-type {\n",
              "        vertical-align: middle;\n",
              "    }\n",
              "\n",
              "    .dataframe tbody tr th {\n",
              "        vertical-align: top;\n",
              "    }\n",
              "\n",
              "    .dataframe thead th {\n",
              "        text-align: right;\n",
              "    }\n",
              "</style>\n",
              "<table border=\"1\" class=\"dataframe\">\n",
              "  <thead>\n",
              "    <tr style=\"text-align: right;\">\n",
              "      <th></th>\n",
              "      <th>total_sqft</th>\n",
              "      <th>bath</th>\n",
              "      <th>price</th>\n",
              "      <th>bhk</th>\n",
              "      <th>price_per_sqft</th>\n",
              "    </tr>\n",
              "  </thead>\n",
              "  <tbody>\n",
              "    <tr>\n",
              "      <th>count</th>\n",
              "      <td>13200.000000</td>\n",
              "      <td>13200.000000</td>\n",
              "      <td>13200.000000</td>\n",
              "      <td>13200.000000</td>\n",
              "      <td>1.320000e+04</td>\n",
              "    </tr>\n",
              "    <tr>\n",
              "      <th>mean</th>\n",
              "      <td>1555.302783</td>\n",
              "      <td>2.691136</td>\n",
              "      <td>112.276178</td>\n",
              "      <td>2.800833</td>\n",
              "      <td>7.920337e+03</td>\n",
              "    </tr>\n",
              "    <tr>\n",
              "      <th>std</th>\n",
              "      <td>1237.323445</td>\n",
              "      <td>1.338915</td>\n",
              "      <td>149.175995</td>\n",
              "      <td>1.292843</td>\n",
              "      <td>1.067272e+05</td>\n",
              "    </tr>\n",
              "    <tr>\n",
              "      <th>min</th>\n",
              "      <td>1.000000</td>\n",
              "      <td>1.000000</td>\n",
              "      <td>8.000000</td>\n",
              "      <td>1.000000</td>\n",
              "      <td>2.670000e+02</td>\n",
              "    </tr>\n",
              "    <tr>\n",
              "      <th>25%</th>\n",
              "      <td>1100.000000</td>\n",
              "      <td>2.000000</td>\n",
              "      <td>50.000000</td>\n",
              "      <td>2.000000</td>\n",
              "      <td>4.267000e+03</td>\n",
              "    </tr>\n",
              "    <tr>\n",
              "      <th>50%</th>\n",
              "      <td>1275.000000</td>\n",
              "      <td>2.000000</td>\n",
              "      <td>71.850000</td>\n",
              "      <td>3.000000</td>\n",
              "      <td>5.438000e+03</td>\n",
              "    </tr>\n",
              "    <tr>\n",
              "      <th>75%</th>\n",
              "      <td>1672.000000</td>\n",
              "      <td>3.000000</td>\n",
              "      <td>120.000000</td>\n",
              "      <td>3.000000</td>\n",
              "      <td>7.317000e+03</td>\n",
              "    </tr>\n",
              "    <tr>\n",
              "      <th>max</th>\n",
              "      <td>52272.000000</td>\n",
              "      <td>40.000000</td>\n",
              "      <td>3600.000000</td>\n",
              "      <td>43.000000</td>\n",
              "      <td>1.200000e+07</td>\n",
              "    </tr>\n",
              "  </tbody>\n",
              "</table>\n",
              "</div>"
            ],
            "text/plain": [
              "         total_sqft          bath         price           bhk  price_per_sqft\n",
              "count  13200.000000  13200.000000  13200.000000  13200.000000    1.320000e+04\n",
              "mean    1555.302783      2.691136    112.276178      2.800833    7.920337e+03\n",
              "std     1237.323445      1.338915    149.175995      1.292843    1.067272e+05\n",
              "min        1.000000      1.000000      8.000000      1.000000    2.670000e+02\n",
              "25%     1100.000000      2.000000     50.000000      2.000000    4.267000e+03\n",
              "50%     1275.000000      2.000000     71.850000      3.000000    5.438000e+03\n",
              "75%     1672.000000      3.000000    120.000000      3.000000    7.317000e+03\n",
              "max    52272.000000     40.000000   3600.000000     43.000000    1.200000e+07"
            ]
          },
          "metadata": {
            "tags": []
          },
          "execution_count": 10
        }
      ]
    },
    {
      "cell_type": "markdown",
      "metadata": {
        "id": "VkDWO1b7lUSH"
      },
      "source": [
        "**Explore samples that are above 99.90% percentile and below 1% percentile rank**"
      ]
    },
    {
      "cell_type": "code",
      "metadata": {
        "id": "ySpTOvFRlUSH",
        "colab": {
          "base_uri": "https://localhost:8080/"
        },
        "outputId": "288c74ae-45ad-498f-b305-a4e8c94aff5a"
      },
      "source": [
        "min_thresold, max_thresold = df.price_per_sqft.quantile([0.001, 0.999])\n",
        "min_thresold, max_thresold"
      ],
      "execution_count": 11,
      "outputs": [
        {
          "output_type": "execute_result",
          "data": {
            "text/plain": [
              "(1366.184, 50959.36200000099)"
            ]
          },
          "metadata": {
            "tags": []
          },
          "execution_count": 11
        }
      ]
    },
    {
      "cell_type": "code",
      "metadata": {
        "id": "F1ewBm8PlUSI",
        "colab": {
          "base_uri": "https://localhost:8080/",
          "height": 483
        },
        "outputId": "feb285cb-4ced-406b-f275-4597d1264cec"
      },
      "source": [
        "df[df.price_per_sqft < min_thresold]"
      ],
      "execution_count": 12,
      "outputs": [
        {
          "output_type": "execute_result",
          "data": {
            "text/html": [
              "<div>\n",
              "<style scoped>\n",
              "    .dataframe tbody tr th:only-of-type {\n",
              "        vertical-align: middle;\n",
              "    }\n",
              "\n",
              "    .dataframe tbody tr th {\n",
              "        vertical-align: top;\n",
              "    }\n",
              "\n",
              "    .dataframe thead th {\n",
              "        text-align: right;\n",
              "    }\n",
              "</style>\n",
              "<table border=\"1\" class=\"dataframe\">\n",
              "  <thead>\n",
              "    <tr style=\"text-align: right;\">\n",
              "      <th></th>\n",
              "      <th>location</th>\n",
              "      <th>size</th>\n",
              "      <th>total_sqft</th>\n",
              "      <th>bath</th>\n",
              "      <th>price</th>\n",
              "      <th>bhk</th>\n",
              "      <th>price_per_sqft</th>\n",
              "    </tr>\n",
              "  </thead>\n",
              "  <tbody>\n",
              "    <tr>\n",
              "      <th>665</th>\n",
              "      <td>Yelahanka</td>\n",
              "      <td>3 BHK</td>\n",
              "      <td>35000.0</td>\n",
              "      <td>3.0</td>\n",
              "      <td>130.0</td>\n",
              "      <td>3</td>\n",
              "      <td>371</td>\n",
              "    </tr>\n",
              "    <tr>\n",
              "      <th>798</th>\n",
              "      <td>other</td>\n",
              "      <td>4 Bedroom</td>\n",
              "      <td>10961.0</td>\n",
              "      <td>4.0</td>\n",
              "      <td>80.0</td>\n",
              "      <td>4</td>\n",
              "      <td>729</td>\n",
              "    </tr>\n",
              "    <tr>\n",
              "      <th>1867</th>\n",
              "      <td>other</td>\n",
              "      <td>3 Bedroom</td>\n",
              "      <td>52272.0</td>\n",
              "      <td>2.0</td>\n",
              "      <td>140.0</td>\n",
              "      <td>3</td>\n",
              "      <td>267</td>\n",
              "    </tr>\n",
              "    <tr>\n",
              "      <th>2392</th>\n",
              "      <td>other</td>\n",
              "      <td>4 Bedroom</td>\n",
              "      <td>2000.0</td>\n",
              "      <td>3.0</td>\n",
              "      <td>25.0</td>\n",
              "      <td>4</td>\n",
              "      <td>1250</td>\n",
              "    </tr>\n",
              "    <tr>\n",
              "      <th>3934</th>\n",
              "      <td>other</td>\n",
              "      <td>1 BHK</td>\n",
              "      <td>1500.0</td>\n",
              "      <td>1.0</td>\n",
              "      <td>19.5</td>\n",
              "      <td>1</td>\n",
              "      <td>1300</td>\n",
              "    </tr>\n",
              "    <tr>\n",
              "      <th>5343</th>\n",
              "      <td>other</td>\n",
              "      <td>9 BHK</td>\n",
              "      <td>42000.0</td>\n",
              "      <td>8.0</td>\n",
              "      <td>175.0</td>\n",
              "      <td>9</td>\n",
              "      <td>416</td>\n",
              "    </tr>\n",
              "    <tr>\n",
              "      <th>5417</th>\n",
              "      <td>Ulsoor</td>\n",
              "      <td>4 BHK</td>\n",
              "      <td>36000.0</td>\n",
              "      <td>4.0</td>\n",
              "      <td>450.0</td>\n",
              "      <td>4</td>\n",
              "      <td>1250</td>\n",
              "    </tr>\n",
              "    <tr>\n",
              "      <th>5597</th>\n",
              "      <td>JP Nagar</td>\n",
              "      <td>2 BHK</td>\n",
              "      <td>1100.0</td>\n",
              "      <td>1.0</td>\n",
              "      <td>15.0</td>\n",
              "      <td>2</td>\n",
              "      <td>1363</td>\n",
              "    </tr>\n",
              "    <tr>\n",
              "      <th>7166</th>\n",
              "      <td>Yelahanka</td>\n",
              "      <td>1 Bedroom</td>\n",
              "      <td>26136.0</td>\n",
              "      <td>1.0</td>\n",
              "      <td>150.0</td>\n",
              "      <td>1</td>\n",
              "      <td>573</td>\n",
              "    </tr>\n",
              "    <tr>\n",
              "      <th>7862</th>\n",
              "      <td>JP Nagar</td>\n",
              "      <td>3 BHK</td>\n",
              "      <td>20000.0</td>\n",
              "      <td>3.0</td>\n",
              "      <td>175.0</td>\n",
              "      <td>3</td>\n",
              "      <td>875</td>\n",
              "    </tr>\n",
              "    <tr>\n",
              "      <th>8300</th>\n",
              "      <td>Kengeri</td>\n",
              "      <td>1 BHK</td>\n",
              "      <td>1200.0</td>\n",
              "      <td>1.0</td>\n",
              "      <td>14.0</td>\n",
              "      <td>1</td>\n",
              "      <td>1166</td>\n",
              "    </tr>\n",
              "    <tr>\n",
              "      <th>9144</th>\n",
              "      <td>other</td>\n",
              "      <td>4 Bedroom</td>\n",
              "      <td>10961.0</td>\n",
              "      <td>4.0</td>\n",
              "      <td>80.0</td>\n",
              "      <td>4</td>\n",
              "      <td>729</td>\n",
              "    </tr>\n",
              "    <tr>\n",
              "      <th>11635</th>\n",
              "      <td>Begur</td>\n",
              "      <td>3 BHK</td>\n",
              "      <td>2400.0</td>\n",
              "      <td>3.0</td>\n",
              "      <td>12.0</td>\n",
              "      <td>3</td>\n",
              "      <td>500</td>\n",
              "    </tr>\n",
              "    <tr>\n",
              "      <th>12355</th>\n",
              "      <td>other</td>\n",
              "      <td>4 BHK</td>\n",
              "      <td>16335.0</td>\n",
              "      <td>4.0</td>\n",
              "      <td>149.0</td>\n",
              "      <td>4</td>\n",
              "      <td>912</td>\n",
              "    </tr>\n",
              "  </tbody>\n",
              "</table>\n",
              "</div>"
            ],
            "text/plain": [
              "        location       size  total_sqft  bath  price  bhk  price_per_sqft\n",
              "665    Yelahanka      3 BHK     35000.0   3.0  130.0    3             371\n",
              "798        other  4 Bedroom     10961.0   4.0   80.0    4             729\n",
              "1867       other  3 Bedroom     52272.0   2.0  140.0    3             267\n",
              "2392       other  4 Bedroom      2000.0   3.0   25.0    4            1250\n",
              "3934       other      1 BHK      1500.0   1.0   19.5    1            1300\n",
              "5343       other      9 BHK     42000.0   8.0  175.0    9             416\n",
              "5417      Ulsoor      4 BHK     36000.0   4.0  450.0    4            1250\n",
              "5597    JP Nagar      2 BHK      1100.0   1.0   15.0    2            1363\n",
              "7166   Yelahanka  1 Bedroom     26136.0   1.0  150.0    1             573\n",
              "7862    JP Nagar      3 BHK     20000.0   3.0  175.0    3             875\n",
              "8300     Kengeri      1 BHK      1200.0   1.0   14.0    1            1166\n",
              "9144       other  4 Bedroom     10961.0   4.0   80.0    4             729\n",
              "11635      Begur      3 BHK      2400.0   3.0   12.0    3             500\n",
              "12355      other      4 BHK     16335.0   4.0  149.0    4             912"
            ]
          },
          "metadata": {
            "tags": []
          },
          "execution_count": 12
        }
      ]
    },
    {
      "cell_type": "code",
      "metadata": {
        "scrolled": false,
        "id": "dzTj7pDPlUSI",
        "colab": {
          "base_uri": "https://localhost:8080/",
          "height": 483
        },
        "outputId": "8aeaaf5e-0017-4f77-b1d8-fe2ffa26e259"
      },
      "source": [
        "df[df.price_per_sqft > max_thresold]"
      ],
      "execution_count": 13,
      "outputs": [
        {
          "output_type": "execute_result",
          "data": {
            "text/html": [
              "<div>\n",
              "<style scoped>\n",
              "    .dataframe tbody tr th:only-of-type {\n",
              "        vertical-align: middle;\n",
              "    }\n",
              "\n",
              "    .dataframe tbody tr th {\n",
              "        vertical-align: top;\n",
              "    }\n",
              "\n",
              "    .dataframe thead th {\n",
              "        text-align: right;\n",
              "    }\n",
              "</style>\n",
              "<table border=\"1\" class=\"dataframe\">\n",
              "  <thead>\n",
              "    <tr style=\"text-align: right;\">\n",
              "      <th></th>\n",
              "      <th>location</th>\n",
              "      <th>size</th>\n",
              "      <th>total_sqft</th>\n",
              "      <th>bath</th>\n",
              "      <th>price</th>\n",
              "      <th>bhk</th>\n",
              "      <th>price_per_sqft</th>\n",
              "    </tr>\n",
              "  </thead>\n",
              "  <tbody>\n",
              "    <tr>\n",
              "      <th>345</th>\n",
              "      <td>other</td>\n",
              "      <td>3 Bedroom</td>\n",
              "      <td>11.0</td>\n",
              "      <td>3.0</td>\n",
              "      <td>74.0</td>\n",
              "      <td>3</td>\n",
              "      <td>672727</td>\n",
              "    </tr>\n",
              "    <tr>\n",
              "      <th>1005</th>\n",
              "      <td>other</td>\n",
              "      <td>1 BHK</td>\n",
              "      <td>15.0</td>\n",
              "      <td>1.0</td>\n",
              "      <td>30.0</td>\n",
              "      <td>1</td>\n",
              "      <td>200000</td>\n",
              "    </tr>\n",
              "    <tr>\n",
              "      <th>1106</th>\n",
              "      <td>other</td>\n",
              "      <td>5 Bedroom</td>\n",
              "      <td>24.0</td>\n",
              "      <td>2.0</td>\n",
              "      <td>150.0</td>\n",
              "      <td>5</td>\n",
              "      <td>625000</td>\n",
              "    </tr>\n",
              "    <tr>\n",
              "      <th>4044</th>\n",
              "      <td>Sarjapur  Road</td>\n",
              "      <td>4 Bedroom</td>\n",
              "      <td>1.0</td>\n",
              "      <td>4.0</td>\n",
              "      <td>120.0</td>\n",
              "      <td>4</td>\n",
              "      <td>12000000</td>\n",
              "    </tr>\n",
              "    <tr>\n",
              "      <th>4924</th>\n",
              "      <td>other</td>\n",
              "      <td>7 BHK</td>\n",
              "      <td>5.0</td>\n",
              "      <td>7.0</td>\n",
              "      <td>115.0</td>\n",
              "      <td>7</td>\n",
              "      <td>2300000</td>\n",
              "    </tr>\n",
              "    <tr>\n",
              "      <th>5911</th>\n",
              "      <td>Mysore Road</td>\n",
              "      <td>1 Bedroom</td>\n",
              "      <td>45.0</td>\n",
              "      <td>1.0</td>\n",
              "      <td>23.0</td>\n",
              "      <td>1</td>\n",
              "      <td>51111</td>\n",
              "    </tr>\n",
              "    <tr>\n",
              "      <th>6356</th>\n",
              "      <td>Bommenahalli</td>\n",
              "      <td>4 Bedroom</td>\n",
              "      <td>2940.0</td>\n",
              "      <td>3.0</td>\n",
              "      <td>2250.0</td>\n",
              "      <td>4</td>\n",
              "      <td>76530</td>\n",
              "    </tr>\n",
              "    <tr>\n",
              "      <th>7012</th>\n",
              "      <td>other</td>\n",
              "      <td>1 BHK</td>\n",
              "      <td>650.0</td>\n",
              "      <td>1.0</td>\n",
              "      <td>500.0</td>\n",
              "      <td>1</td>\n",
              "      <td>76923</td>\n",
              "    </tr>\n",
              "    <tr>\n",
              "      <th>7575</th>\n",
              "      <td>other</td>\n",
              "      <td>1 BHK</td>\n",
              "      <td>425.0</td>\n",
              "      <td>1.0</td>\n",
              "      <td>750.0</td>\n",
              "      <td>1</td>\n",
              "      <td>176470</td>\n",
              "    </tr>\n",
              "    <tr>\n",
              "      <th>7799</th>\n",
              "      <td>other</td>\n",
              "      <td>4 BHK</td>\n",
              "      <td>2000.0</td>\n",
              "      <td>3.0</td>\n",
              "      <td>1063.0</td>\n",
              "      <td>4</td>\n",
              "      <td>53150</td>\n",
              "    </tr>\n",
              "    <tr>\n",
              "      <th>8307</th>\n",
              "      <td>Bannerghatta Road</td>\n",
              "      <td>5 BHK</td>\n",
              "      <td>2500.0</td>\n",
              "      <td>4.0</td>\n",
              "      <td>1400.0</td>\n",
              "      <td>5</td>\n",
              "      <td>56000</td>\n",
              "    </tr>\n",
              "    <tr>\n",
              "      <th>9436</th>\n",
              "      <td>Indira Nagar</td>\n",
              "      <td>4 Bedroom</td>\n",
              "      <td>2400.0</td>\n",
              "      <td>5.0</td>\n",
              "      <td>1250.0</td>\n",
              "      <td>4</td>\n",
              "      <td>52083</td>\n",
              "    </tr>\n",
              "    <tr>\n",
              "      <th>11447</th>\n",
              "      <td>Whitefield</td>\n",
              "      <td>4 Bedroom</td>\n",
              "      <td>60.0</td>\n",
              "      <td>4.0</td>\n",
              "      <td>218.0</td>\n",
              "      <td>4</td>\n",
              "      <td>363333</td>\n",
              "    </tr>\n",
              "    <tr>\n",
              "      <th>12328</th>\n",
              "      <td>other</td>\n",
              "      <td>4 Bedroom</td>\n",
              "      <td>4350.0</td>\n",
              "      <td>8.0</td>\n",
              "      <td>2600.0</td>\n",
              "      <td>4</td>\n",
              "      <td>59770</td>\n",
              "    </tr>\n",
              "  </tbody>\n",
              "</table>\n",
              "</div>"
            ],
            "text/plain": [
              "                location       size  total_sqft  ...   price  bhk  price_per_sqft\n",
              "345                other  3 Bedroom        11.0  ...    74.0    3          672727\n",
              "1005               other      1 BHK        15.0  ...    30.0    1          200000\n",
              "1106               other  5 Bedroom        24.0  ...   150.0    5          625000\n",
              "4044      Sarjapur  Road  4 Bedroom         1.0  ...   120.0    4        12000000\n",
              "4924               other      7 BHK         5.0  ...   115.0    7         2300000\n",
              "5911         Mysore Road  1 Bedroom        45.0  ...    23.0    1           51111\n",
              "6356        Bommenahalli  4 Bedroom      2940.0  ...  2250.0    4           76530\n",
              "7012               other      1 BHK       650.0  ...   500.0    1           76923\n",
              "7575               other      1 BHK       425.0  ...   750.0    1          176470\n",
              "7799               other      4 BHK      2000.0  ...  1063.0    4           53150\n",
              "8307   Bannerghatta Road      5 BHK      2500.0  ...  1400.0    5           56000\n",
              "9436        Indira Nagar  4 Bedroom      2400.0  ...  1250.0    4           52083\n",
              "11447         Whitefield  4 Bedroom        60.0  ...   218.0    4          363333\n",
              "12328              other  4 Bedroom      4350.0  ...  2600.0    4           59770\n",
              "\n",
              "[14 rows x 7 columns]"
            ]
          },
          "metadata": {
            "tags": []
          },
          "execution_count": 13
        }
      ]
    },
    {
      "cell_type": "markdown",
      "metadata": {
        "id": "OSW-bZv-lUSI"
      },
      "source": [
        "<h3 style='color:purple'>Remove outliers</h3>"
      ]
    },
    {
      "cell_type": "code",
      "metadata": {
        "id": "jlX4mkZzlUSI",
        "colab": {
          "base_uri": "https://localhost:8080/"
        },
        "outputId": "2251fcdf-69c4-4a75-d5c8-06abbecbfc06"
      },
      "source": [
        "df2 = df[(df.price_per_sqft<max_thresold) & (df.price_per_sqft>min_thresold)]\n",
        "df2.shape"
      ],
      "execution_count": 14,
      "outputs": [
        {
          "output_type": "execute_result",
          "data": {
            "text/plain": [
              "(13172, 7)"
            ]
          },
          "metadata": {
            "tags": []
          },
          "execution_count": 14
        }
      ]
    },
    {
      "cell_type": "code",
      "metadata": {
        "scrolled": true,
        "id": "bhxpnuuelUSJ",
        "colab": {
          "base_uri": "https://localhost:8080/",
          "height": 297
        },
        "outputId": "0c096cb7-951d-409b-c052-612a7418c3bb"
      },
      "source": [
        "df2.describe()"
      ],
      "execution_count": 15,
      "outputs": [
        {
          "output_type": "execute_result",
          "data": {
            "text/html": [
              "<div>\n",
              "<style scoped>\n",
              "    .dataframe tbody tr th:only-of-type {\n",
              "        vertical-align: middle;\n",
              "    }\n",
              "\n",
              "    .dataframe tbody tr th {\n",
              "        vertical-align: top;\n",
              "    }\n",
              "\n",
              "    .dataframe thead th {\n",
              "        text-align: right;\n",
              "    }\n",
              "</style>\n",
              "<table border=\"1\" class=\"dataframe\">\n",
              "  <thead>\n",
              "    <tr style=\"text-align: right;\">\n",
              "      <th></th>\n",
              "      <th>total_sqft</th>\n",
              "      <th>bath</th>\n",
              "      <th>price</th>\n",
              "      <th>bhk</th>\n",
              "      <th>price_per_sqft</th>\n",
              "    </tr>\n",
              "  </thead>\n",
              "  <tbody>\n",
              "    <tr>\n",
              "      <th>count</th>\n",
              "      <td>13172.000000</td>\n",
              "      <td>13172.000000</td>\n",
              "      <td>13172.000000</td>\n",
              "      <td>13172.000000</td>\n",
              "      <td>13172.000000</td>\n",
              "    </tr>\n",
              "    <tr>\n",
              "      <th>mean</th>\n",
              "      <td>1537.861049</td>\n",
              "      <td>2.690100</td>\n",
              "      <td>111.591865</td>\n",
              "      <td>2.799651</td>\n",
              "      <td>6663.653735</td>\n",
              "    </tr>\n",
              "    <tr>\n",
              "      <th>std</th>\n",
              "      <td>967.123711</td>\n",
              "      <td>1.337026</td>\n",
              "      <td>145.372047</td>\n",
              "      <td>1.291130</td>\n",
              "      <td>4141.020700</td>\n",
              "    </tr>\n",
              "    <tr>\n",
              "      <th>min</th>\n",
              "      <td>250.000000</td>\n",
              "      <td>1.000000</td>\n",
              "      <td>8.000000</td>\n",
              "      <td>1.000000</td>\n",
              "      <td>1379.000000</td>\n",
              "    </tr>\n",
              "    <tr>\n",
              "      <th>25%</th>\n",
              "      <td>1100.000000</td>\n",
              "      <td>2.000000</td>\n",
              "      <td>50.000000</td>\n",
              "      <td>2.000000</td>\n",
              "      <td>4271.000000</td>\n",
              "    </tr>\n",
              "    <tr>\n",
              "      <th>50%</th>\n",
              "      <td>1274.500000</td>\n",
              "      <td>2.000000</td>\n",
              "      <td>71.550000</td>\n",
              "      <td>3.000000</td>\n",
              "      <td>5438.000000</td>\n",
              "    </tr>\n",
              "    <tr>\n",
              "      <th>75%</th>\n",
              "      <td>1670.000000</td>\n",
              "      <td>3.000000</td>\n",
              "      <td>120.000000</td>\n",
              "      <td>3.000000</td>\n",
              "      <td>7311.000000</td>\n",
              "    </tr>\n",
              "    <tr>\n",
              "      <th>max</th>\n",
              "      <td>30400.000000</td>\n",
              "      <td>40.000000</td>\n",
              "      <td>3600.000000</td>\n",
              "      <td>43.000000</td>\n",
              "      <td>50349.000000</td>\n",
              "    </tr>\n",
              "  </tbody>\n",
              "</table>\n",
              "</div>"
            ],
            "text/plain": [
              "         total_sqft          bath         price           bhk  price_per_sqft\n",
              "count  13172.000000  13172.000000  13172.000000  13172.000000    13172.000000\n",
              "mean    1537.861049      2.690100    111.591865      2.799651     6663.653735\n",
              "std      967.123711      1.337026    145.372047      1.291130     4141.020700\n",
              "min      250.000000      1.000000      8.000000      1.000000     1379.000000\n",
              "25%     1100.000000      2.000000     50.000000      2.000000     4271.000000\n",
              "50%     1274.500000      2.000000     71.550000      3.000000     5438.000000\n",
              "75%     1670.000000      3.000000    120.000000      3.000000     7311.000000\n",
              "max    30400.000000     40.000000   3600.000000     43.000000    50349.000000"
            ]
          },
          "metadata": {
            "tags": []
          },
          "execution_count": 15
        }
      ]
    },
    {
      "cell_type": "markdown",
      "metadata": {
        "id": "lFLP7kItlUSJ"
      },
      "source": [
        "<h3 style='color:purple'>Exercise</h3>"
      ]
    },
    {
      "cell_type": "markdown",
      "metadata": {
        "id": "ATmKhmbGlUSJ"
      },
      "source": [
        "Use this air bnb new york city [data set](https://www.kaggle.com/dgomonov/new-york-city-airbnb-open-data/data) and remove outliers using percentile based on price per night for a given apartment/home. You can use suitable upper and lower limits on percentile based on your intuition. \n",
        "Your goal is to come up with new pandas dataframe that doesn't have the outliers present in it."
      ]
    },
    {
      "cell_type": "markdown",
      "metadata": {
        "id": "TxNg2m7alUSJ"
      },
      "source": [
        "[Solution](https://github.com/codebasics/py/tree/master/ML/FeatureEngineering/1_outliers/Exercise/1_outliers_percentile_exercise.ipynb)"
      ]
    }
  ]
}