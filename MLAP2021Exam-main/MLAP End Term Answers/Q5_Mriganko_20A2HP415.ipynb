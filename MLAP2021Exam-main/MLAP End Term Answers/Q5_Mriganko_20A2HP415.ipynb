{
  "nbformat": 4,
  "nbformat_minor": 0,
  "metadata": {
    "colab": {
      "name": "Q5-Mriganko-20A2HP415.ipynb",
      "provenance": [],
      "collapsed_sections": []
    },
    "kernelspec": {
      "name": "python3",
      "display_name": "Python 3"
    },
    "language_info": {
      "name": "python"
    }
  },
  "cells": [
    {
      "cell_type": "markdown",
      "metadata": {
        "id": "NMH6J6dJS0fF"
      },
      "source": [
        "Question 2\n",
        "Mriganko Roy\n",
        "20A2HP415"
      ]
    },
    {
      "cell_type": "markdown",
      "metadata": {
        "id": "OOf8JniFTqMR"
      },
      "source": [
        "Importing the required libraries for executing the problem\n"
      ]
    },
    {
      "cell_type": "code",
      "metadata": {
        "id": "pOTCON3GSxN7"
      },
      "source": [
        "import matplotlib.pyplot as plt\n",
        "import numpy as np\n",
        "import pandas as pd\n",
        "%matplotlib inline"
      ],
      "execution_count": 1,
      "outputs": []
    },
    {
      "cell_type": "markdown",
      "metadata": {
        "id": "laFP889SUjgh"
      },
      "source": [
        "Importing the data"
      ]
    },
    {
      "cell_type": "code",
      "metadata": {
        "id": "zBr1YSzaT96S"
      },
      "source": [
        "pos_sal = pd.read_csv('https://raw.githubusercontent.com/mrigankoml/MLAP_Term-IV/main/MLAP2021Exam-main/MALP2021%20Question%20paper/Position_Salaries.csv')"
      ],
      "execution_count": 2,
      "outputs": []
    },
    {
      "cell_type": "markdown",
      "metadata": {
        "id": "evcgjyVIUlUb"
      },
      "source": [
        "Reading the first 5 values"
      ]
    },
    {
      "cell_type": "code",
      "metadata": {
        "colab": {
          "base_uri": "https://localhost:8080/",
          "height": 204
        },
        "id": "WmkcGQW9UeIO",
        "outputId": "60b877ea-180b-4ebe-c55e-ad9b620b1a6e"
      },
      "source": [
        "pos_sal.head(5)"
      ],
      "execution_count": 3,
      "outputs": [
        {
          "output_type": "execute_result",
          "data": {
            "text/html": [
              "<div>\n",
              "<style scoped>\n",
              "    .dataframe tbody tr th:only-of-type {\n",
              "        vertical-align: middle;\n",
              "    }\n",
              "\n",
              "    .dataframe tbody tr th {\n",
              "        vertical-align: top;\n",
              "    }\n",
              "\n",
              "    .dataframe thead th {\n",
              "        text-align: right;\n",
              "    }\n",
              "</style>\n",
              "<table border=\"1\" class=\"dataframe\">\n",
              "  <thead>\n",
              "    <tr style=\"text-align: right;\">\n",
              "      <th></th>\n",
              "      <th>Position</th>\n",
              "      <th>Level</th>\n",
              "      <th>Salary</th>\n",
              "    </tr>\n",
              "  </thead>\n",
              "  <tbody>\n",
              "    <tr>\n",
              "      <th>0</th>\n",
              "      <td>Business Analyst</td>\n",
              "      <td>1</td>\n",
              "      <td>45000</td>\n",
              "    </tr>\n",
              "    <tr>\n",
              "      <th>1</th>\n",
              "      <td>Junior Consultant</td>\n",
              "      <td>2</td>\n",
              "      <td>50000</td>\n",
              "    </tr>\n",
              "    <tr>\n",
              "      <th>2</th>\n",
              "      <td>Senior Consultant</td>\n",
              "      <td>3</td>\n",
              "      <td>60000</td>\n",
              "    </tr>\n",
              "    <tr>\n",
              "      <th>3</th>\n",
              "      <td>Manager</td>\n",
              "      <td>4</td>\n",
              "      <td>80000</td>\n",
              "    </tr>\n",
              "    <tr>\n",
              "      <th>4</th>\n",
              "      <td>Country Manager</td>\n",
              "      <td>5</td>\n",
              "      <td>110000</td>\n",
              "    </tr>\n",
              "  </tbody>\n",
              "</table>\n",
              "</div>"
            ],
            "text/plain": [
              "            Position  Level  Salary\n",
              "0   Business Analyst      1   45000\n",
              "1  Junior Consultant      2   50000\n",
              "2  Senior Consultant      3   60000\n",
              "3            Manager      4   80000\n",
              "4    Country Manager      5  110000"
            ]
          },
          "metadata": {},
          "execution_count": 3
        }
      ]
    },
    {
      "cell_type": "markdown",
      "metadata": {
        "id": "j38TUOQvZpKm"
      },
      "source": [
        "Including dummy variables"
      ]
    },
    {
      "cell_type": "code",
      "metadata": {
        "id": "-_dnRQpfZ4y1"
      },
      "source": [
        "cat = ['Position']\n",
        "pos_sal_encoded = pd.get_dummies(pos_sal, columns = cat)"
      ],
      "execution_count": 4,
      "outputs": []
    },
    {
      "cell_type": "markdown",
      "metadata": {
        "id": "K1Q83_61aDmT"
      },
      "source": [
        "Splitting into X and Y \n"
      ]
    },
    {
      "cell_type": "code",
      "metadata": {
        "id": "GHttFN99aGfg"
      },
      "source": [
        "X = pos_sal_encoded.drop(columns = 'Salary')\n",
        "y = pos_sal[\"Salary\"]"
      ],
      "execution_count": 5,
      "outputs": []
    },
    {
      "cell_type": "markdown",
      "metadata": {
        "id": "YzsunAFsaQzh"
      },
      "source": [
        "Splitting into Train and Test data"
      ]
    },
    {
      "cell_type": "code",
      "metadata": {
        "id": "TNI_8c8paOYi"
      },
      "source": [
        "from sklearn.model_selection import train_test_split\n",
        "X_train, X_test, y_train, y_test = train_test_split(X, y, test_size=0.2, random_state=0)"
      ],
      "execution_count": 6,
      "outputs": []
    },
    {
      "cell_type": "markdown",
      "metadata": {
        "id": "fjUZgaKman5i"
      },
      "source": [
        "Feature Scaling"
      ]
    },
    {
      "cell_type": "code",
      "metadata": {
        "id": "2bZZfT5raYz5"
      },
      "source": [
        "from sklearn.preprocessing import StandardScaler\n",
        "\n",
        "ss = StandardScaler()\n",
        "X_train = ss.fit_transform(X_train)\n",
        "X_test = ss.transform(X_test)"
      ],
      "execution_count": 7,
      "outputs": []
    },
    {
      "cell_type": "markdown",
      "metadata": {
        "id": "wMB9b4NJa0QP"
      },
      "source": [
        "Training the algorithm"
      ]
    },
    {
      "cell_type": "code",
      "metadata": {
        "id": "47gfnfnBavwf"
      },
      "source": [
        "from sklearn.ensemble import RandomForestRegressor\n",
        "regressor = RandomForestRegressor(n_estimators=10, random_state=0)\n",
        "regressor.fit(X_train, y_train)\n",
        "y_pred = regressor.predict(X_test)"
      ],
      "execution_count": 8,
      "outputs": []
    },
    {
      "cell_type": "markdown",
      "metadata": {
        "id": "sF8lYpL-a98R"
      },
      "source": [
        "Evaluation Metrics"
      ]
    },
    {
      "cell_type": "code",
      "metadata": {
        "colab": {
          "base_uri": "https://localhost:8080/"
        },
        "id": "Hh--UxWea5uK",
        "outputId": "0ba52bd2-4418-4420-82f7-9129ea43a5f4"
      },
      "source": [
        "from sklearn import metrics\n",
        "print('Mean Absolute Error:', metrics.mean_absolute_error(y_test, y_pred))\n",
        "print('Mean Squared Error:', metrics.mean_squared_error(y_test, y_pred))\n",
        "print('Root Mean Squared Error:', np.sqrt(metrics.mean_squared_error(y_test, y_pred)))"
      ],
      "execution_count": 9,
      "outputs": [
        {
          "output_type": "stream",
          "name": "stdout",
          "text": [
            "Mean Absolute Error: 59750.0\n",
            "Mean Squared Error: 4812625000.0\n",
            "Root Mean Squared Error: 69373.08555917056\n"
          ]
        }
      ]
    },
    {
      "cell_type": "markdown",
      "metadata": {
        "id": "centERR7bHNW"
      },
      "source": [
        "**Under observation, we came to know that the accuracy has not been good in the model. With Mean Absolute Error's value coming out to be 59750, we can say that the methods which we have applied for the model haven't given us a good model.**"
      ]
    }
  ]
}